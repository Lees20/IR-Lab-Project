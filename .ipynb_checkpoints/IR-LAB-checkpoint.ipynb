{
 "cells": [
  {
   "cell_type": "markdown",
   "id": "912704bc-ae11-49e4-b008-e8b6c76c343b",
   "metadata": {},
   "source": [
    "# ΕΡΓΑΣΙΑ ΑΝΑΚΤΗΣΗΣ ΠΛΗΡΟΦΟΡΙΑΣ\n",
    "\n",
    "Πριν αρχίσουμε, κατεβάζουμε ολα τα απαραίτητα πακέτα για να τρέξει το πρόγραμμα μας\n"
   ]
  },
  {
   "cell_type": "code",
   "execution_count": 17,
   "id": "57039fd7-2ad8-4d51-9aeb-4772499e2c34",
   "metadata": {},
   "outputs": [
    {
     "name": "stdout",
     "output_type": "stream",
     "text": [
      "Requirement already satisfied: nltk in /usr/local/Cellar/jupyterlab/4.3.4_1/libexec/lib/python3.13/site-packages (3.9.1)\n",
      "Requirement already satisfied: click in /usr/local/Cellar/jupyterlab/4.3.4_1/libexec/lib/python3.13/site-packages (from nltk) (8.1.8)\n",
      "Requirement already satisfied: joblib in /usr/local/Cellar/jupyterlab/4.3.4_1/libexec/lib/python3.13/site-packages (from nltk) (1.4.2)\n",
      "Requirement already satisfied: regex>=2021.8.3 in /usr/local/Cellar/jupyterlab/4.3.4_1/libexec/lib/python3.13/site-packages (from nltk) (2024.11.6)\n",
      "Requirement already satisfied: tqdm in /usr/local/Cellar/jupyterlab/4.3.4_1/libexec/lib/python3.13/site-packages (from nltk) (4.67.1)\n",
      "Note: you may need to restart the kernel to use updated packages.\n"
     ]
    }
   ],
   "source": [
    "pip install nltk"
   ]
  },
  {
   "cell_type": "markdown",
   "id": "e0276b5d-e379-4fda-a2d9-b926c2fc999e",
   "metadata": {},
   "source": [
    "# Αρχικοποίηση προγράμματος\n",
    "Το παρακάτω τμήμα κώδικα εισάγει απαραίτητες βιβλιοθήκες για την επεξεργασία δεδομένων και φυσικής γλώσσας, όπως το requests για HTTP αιτήματα, το BeautifulSoup για ανάλυση HTML, και το nltk για λεματοποίηση, διαχωρισμό λέξεων και απομάκρυνση κοινών λέξεων (stopwords). Ρυθμίζει τη διαδρομή αποθήκευσης των δεδομένων της βιβλιοθήκης nltk και κατεβάζει τα εργαλεία punkt, stopwords και wordnet. Επιπλέον, αρχικοποιεί εργαλεία επεξεργασίας κειμένου, όπως τα stop_words, lemmatizer και stemmer, για την προετοιμασία κειμένων προς ανάλυση."
   ]
  },
  {
   "cell_type": "code",
   "execution_count": 18,
   "id": "ebb67a3a-9b24-490e-8bca-5a8ebb3d83b7",
   "metadata": {},
   "outputs": [
    {
     "name": "stderr",
     "output_type": "stream",
     "text": [
      "[nltk_data] Downloading package punkt to\n",
      "[nltk_data]     /Users/panteliskarabetsos/nltk_data...\n",
      "[nltk_data]   Package punkt is already up-to-date!\n",
      "[nltk_data] Downloading package stopwords to\n",
      "[nltk_data]     /Users/panteliskarabetsos/nltk_data...\n",
      "[nltk_data]   Package stopwords is already up-to-date!\n",
      "[nltk_data] Downloading package wordnet to\n",
      "[nltk_data]     /Users/panteliskarabetsos/nltk_data...\n",
      "[nltk_data]   Package wordnet is already up-to-date!\n"
     ]
    }
   ],
   "source": [
    "import requests\n",
    "from bs4 import BeautifulSoup\n",
    "import re\n",
    "import json\n",
    "import nltk\n",
    "from nltk.corpus import stopwords\n",
    "from nltk.tokenize import word_tokenize\n",
    "from nltk.stem import WordNetLemmatizer, PorterStemmer\n",
    "from urllib.parse import urljoin\n",
    "import time\n",
    "import math\n",
    "import numpy as np\n",
    "from collections import defaultdict\n",
    "\n",
    "# Διαδρομή NLTK\n",
    "nltk.data.path.append('/Users/panteliskarabetsos/nltk_data')\n",
    "\n",
    "# Κατέβασμα απαραίτητων δεδομένων NLTK\n",
    "nltk.download('punkt')\n",
    "nltk.download('stopwords')\n",
    "nltk.download('wordnet')\n",
    "\n",
    "# Αρχικοποίηση εργαλείων\n",
    "stop_words = set(stopwords.words('english'))\n",
    "lemmatizer = WordNetLemmatizer()\n",
    "stemmer = PorterStemmer()\n",
    "\n"
   ]
  },
  {
   "cell_type": "markdown",
   "id": "84c1543f-defc-4a5a-bada-c656998a58ac",
   "metadata": {},
   "source": [
    "\n",
    "Το παρακάτω τμήμα του κώδικα περιλαμβάνει την αρχικοποίηση μεταβλητών και τη δημιουργία μιας συνάρτησης για την προεπεξεργασία κειμένου. Οι μεταβλητές visited_urls (σύνολο για αποθήκευση επισκεπτόμενων URLs), articles (λίστα άρθρων), και inverted_index (αντεστραμμένο ευρετήριο) προετοιμάζουν την αποθήκευση δεδομένων του προγράμματος. Η συνάρτηση preprocess_text καθαρίζει και προετοιμάζει το κείμενο προς ανάλυση: μετατρέπει τα γράμματα σε πεζά, αφαιρεί μη αλφαριθμητικούς χαρακτήρες και περιττά κενά, διαχωρίζει το κείμενο σε λέξεις (tokens), απομακρύνει τις stopwords, και εφαρμόζει λεματοποίηση για τη μείωση των λέξεων στη βασική τους μορφή. Επιστρέφει μια λίστα με τις επεξεργασμένες λέξεις."
   ]
  },
  {
   "cell_type": "code",
   "execution_count": 19,
   "id": "e28ba2ce-eb63-43ed-b65a-811e82e6139b",
   "metadata": {},
   "outputs": [],
   "source": [
    "\n",
    "# Μεταβλητές\n",
    "visited_urls = set()\n",
    "articles = []\n",
    "inverted_index = {}\n",
    "\n"
   ]
  },
  {
   "cell_type": "markdown",
   "id": "80b79638-2310-4151-bd7a-03afc41a56a3",
   "metadata": {},
   "source": [
    "# Βήμα 1ο: Συλλογή Δεδομένων\n",
    "Η συνάρτηση crawl_wikipedia υλοποιεί έναν web crawler που συλλέγει άρθρα από τη Wikipedia, ανιχνεύει σελίδες στη Wikipedia ξεκινώντας από ένα URL και συλλέγει έως max_articles άρθρα. Επισκέπτεται κάθε σελίδα, εξάγει τον τίτλο, το κείμενο και τους συνδέσμους της, και αποθηκεύει τα δεδομένα στη λίστα articles. Ελέγχει για διπλότυπα URLs, προσθέτει νέους συνδέσμους στην ουρά ανίχνευσης, και καθυστερεί κάθε αίτημα για να προστατεύσει τον διακομιστή.\n",
    "### Ορόσημο: Τα συλλεγμένα άρθρα είναι διαθέσιμα στη λίστα articles."
   ]
  },
  {
   "cell_type": "code",
   "execution_count": 20,
   "id": "df539af0-f3f3-4d5b-8273-7026c78d9653",
   "metadata": {},
   "outputs": [],
   "source": [
    "\n",
    "#Crawling\n",
    "def crawl_wikipedia(url, max_articles=10):\n",
    "    queue = [url]\n",
    "    while queue and len(articles) < max_articles:\n",
    "        current_url = queue.pop(0)\n",
    "        if current_url in visited_urls:\n",
    "            continue\n",
    "        try:\n",
    "            response = requests.get(current_url)\n",
    "            response.raise_for_status()\n",
    "            soup = BeautifulSoup(response.text, 'html.parser')\n",
    "\n",
    "            # Απόκτηση τίτλου και περιεχομένου\n",
    "            title = soup.title.string if soup.title else 'No Title'\n",
    "            paragraphs = soup.find_all('p')\n",
    "            content = ' '.join([para.get_text() for para in paragraphs])\n",
    "            cleaned_content = ' '.join(preprocess_text(content))\n",
    "\n",
    "            # Αποθήκευση δεδομένων άρθρου\n",
    "            articles.append({\n",
    "                'Title': title,\n",
    "                'URL': current_url,\n",
    "                'Content': content,\n",
    "                'Cleaned_Content': cleaned_content\n",
    "            })\n",
    "            print(f'Collected and processed article: {title} from {current_url}')\n",
    "\n",
    "            visited_urls.add(current_url)\n",
    "\n",
    "            # Εύρεση συνδέσμων\n",
    "            for link in soup.find_all('a', href=True):\n",
    "                href = link['href']\n",
    "                if href.startswith('/wiki/') and ':' not in href:\n",
    "                    full_url = urljoin(base_url, href)\n",
    "                    if full_url not in visited_urls:\n",
    "                        queue.append(full_url)\n",
    "\n",
    "            time.sleep(1)\n",
    "        except requests.exceptions.RequestException as e:\n",
    "            print(f\"Failed to retrieve {current_url}: {e}\")"
   ]
  },
  {
   "cell_type": "markdown",
   "id": "34056b9f-213e-4aa8-8c55-87360a4d5607",
   "metadata": {},
   "source": [
    "# Βήμα 2: Προεπεξεργασία κειμένου\n",
    "Η συνάρτηση preprocess_text πραγματοποιεί:\n",
    "* Tokenization: Διαχωρισμός κειμένου σε λέξεις.\n",
    "* Stemming/Lemmatization: Εφαρμογή της μεθόδου lemmatizer.lemmatize.\n",
    "* Αφαίρεση stopwords και ειδικών χαρακτήρων: Χρησιμοποιούνται οι stop_words και οι κανονικές εκφράσεις.\n",
    "### Ορόσημο: Τα «καθαρισμένα» δεδομένα αποθηκεύονται στο πεδίο Cleaned_Content κάθε άρθρου στη λίστα articles."
   ]
  },
  {
   "cell_type": "code",
   "execution_count": 21,
   "id": "58075b87-4859-4390-bdb3-83f42f05ba8e",
   "metadata": {},
   "outputs": [],
   "source": [
    "\n",
    "#Προεπεξεργασία Κειμένου\n",
    "def preprocess_text(text):\n",
    "    text = text.lower()\n",
    "    text = re.sub(r'\\W', ' ', text)  \n",
    "    text = re.sub(r'\\s+', ' ', text)  \n",
    "    tokens = word_tokenize(text)\n",
    "    filtered_tokens = [word for word in tokens if word not in stop_words]\n",
    "    lemmatized_tokens = [lemmatizer.lemmatize(word) for word in filtered_tokens]\n",
    "    return lemmatized_tokens"
   ]
  },
  {
   "cell_type": "markdown",
   "id": "aa79c73d-7349-493d-8591-e72eca6a2fa5",
   "metadata": {},
   "source": [
    "# ΒΗΜΑ 3: Ευρετήριο\n",
    "Η συνάρτηση build_inverted_index δημιουργεί ένα αντεστραμμένο ευρετήριο από τα άρθρα που έχουν συλλεχθεί. Για κάθε άρθρο, εξάγει τις λέξεις από το πεδίο Cleaned_Content, εφαρμόζει stemming σε κάθε λέξη και καταχωρεί την ταυτότητα του άρθρου (index) στο ευρετήριο για κάθε λέξη. Έτσι, δημιουργείται μια δομή που συνδέει κάθε λέξη με τα άρθρα στα οποία εμφανίζεται, διευκολύνοντας την αναζήτηση.\n",
    "### Ορόσημο: Το αντεστραμμένο ευρετήριο είναι διαθέσιμο στο inverted_index."
   ]
  },
  {
   "cell_type": "code",
   "execution_count": 22,
   "id": "b40c1c35-a2d4-4913-b9cf-4d5885026af3",
   "metadata": {},
   "outputs": [],
   "source": [
    "#Δημιουργία Ευρετηρίου\n",
    "def build_inverted_index():\n",
    "    global inverted_index\n",
    "    for idx, article in enumerate(articles):\n",
    "        tokens = preprocess_text(article['Cleaned_Content'])\n",
    "        for token in tokens:\n",
    "            stemmed_token = stemmer.stem(token)\n",
    "            if stemmed_token not in inverted_index:\n",
    "                inverted_index[stemmed_token] = set()\n",
    "            inverted_index[stemmed_token].add(idx)\n",
    "    print(\"Inverted Index Built:\", inverted_index)\n"
   ]
  },
  {
   "cell_type": "markdown",
   "id": "5096f3f3-ed39-4d28-ad09-ed2749ce349a",
   "metadata": {},
   "source": [
    "# Βήμα 4: Μηχανή αναζήτησης\n",
    "\n",
    "Η συνάρτηση infix_to_postfix μετατρέπει ένα λογικό ερώτημα από τη μορφή infix (π.χ., A AND B) σε postfix (π.χ., A B AND) χρησιμοποιώντας τους κανόνες προτεραιότητας των τελεστών. Χρησιμοποιεί μια στοίβα (operators) για την αποθήκευση τελεστών και μια λίστα (output) για την κατασκευή της postfix έκφρασης. Οι τελεστές NOT, AND, OR έχουν συγκεκριμένη προτεραιότητα, ενώ οι παρενθέσεις εξασφαλίζουν τη σωστή σειρά εκτέλεσης. Τέλος, προσθέτει στη λίστα output ό,τι έχει απομείνει στη στοίβα.\n",
    "## i) Επεξεργασία Ερωτήματος"
   ]
  },
  {
   "cell_type": "code",
   "execution_count": 23,
   "id": "6abd020f-6bea-440c-90ac-8f938e4cc13e",
   "metadata": {},
   "outputs": [],
   "source": [
    "\n",
    "#Boolean Query Processing\n",
    "def infix_to_postfix(query):\n",
    "    precedence = {'NOT': 3, 'AND': 2, 'OR': 1}\n",
    "    output = []\n",
    "    operators = []\n",
    "    tokens = re.findall(r'\\(|\\)|\\w+|AND|OR|NOT', query)\n",
    "\n",
    "    for token in tokens:\n",
    "        token = token.upper()\n",
    "        if token in precedence:\n",
    "            while operators and operators[-1] != '(' and precedence[operators[-1]] >= precedence[token]:\n",
    "                output.append(operators.pop())\n",
    "            operators.append(token)\n",
    "        elif token == '(':\n",
    "            operators.append(token)\n",
    "        elif token == ')':\n",
    "            while operators and operators[-1] != '(':\n",
    "                output.append(operators.pop())\n",
    "            operators.pop()\n",
    "        else:\n",
    "            output.append(token)\n",
    "\n",
    "    while operators:\n",
    "        output.append(operators.pop())\n",
    "\n",
    "    return output"
   ]
  },
  {
   "cell_type": "markdown",
   "id": "1f4dfb0f-5281-485a-9409-577b327f1bfc",
   "metadata": {},
   "source": [
    "Η συνάρτηση evaluate_postfix εκτελεί ένα λογικό ερώτημα σε μορφή postfix. Για κάθε λέξη, βρίσκει τα άρθρα όπου εμφανίζεται χρησιμοποιώντας το αντεστραμμένο ευρετήριο και τα αποθηκεύει στη στοίβα. Για τους τελεστές (AND, OR, NOT), συνδυάζει τα σύνολα εγγράφων από τη στοίβα: το AND κρατά τα κοινά έγγραφα, το OR ενώνει τα σύνολα, και το NOT αφαιρεί τα έγγραφα ενός συνόλου από το σύνολο όλων των εγγράφων. Τελικά, επιστρέφει το σύνολο των εγγράφων που ικανοποιούν το ερώτημα.\n",
    "### Ορόσημο: Λειτουργική μηχανή αναζήτησης με επιλογή αλγορίθμου κατάταξης."
   ]
  },
  {
   "cell_type": "code",
   "execution_count": 24,
   "id": "6b95e7c5-49ce-400f-b98d-336edddbbb63",
   "metadata": {},
   "outputs": [],
   "source": [
    "\n",
    "def evaluate_postfix(postfix):\n",
    "    \"\"\"Αξιολογεί ένα Boolean query σε postfix μορφή.\"\"\"\n",
    "    stack = []\n",
    "    all_docs = set(range(len(articles))) \n",
    "\n",
    "    for token in postfix:\n",
    "        print(f\"Processing token: {token}\") \n",
    "        if token in {\"AND\", \"OR\", \"NOT\"}: \n",
    "            if token == \"AND\":\n",
    "                if len(stack) < 2:\n",
    "                    print(\"Error: Not enough operands for AND.\")\n",
    "                    return set()\n",
    "                set2 = stack.pop()\n",
    "                set1 = stack.pop()\n",
    "                stack.append(set1.intersection(set2))\n",
    "            elif token == \"OR\":\n",
    "                if len(stack) < 2:\n",
    "                    print(\"Error: Not enough operands for OR.\")\n",
    "                    return set()\n",
    "                set2 = stack.pop()\n",
    "                set1 = stack.pop()\n",
    "                stack.append(set1.union(set2))\n",
    "            elif token == \"NOT\":\n",
    "                if not stack:\n",
    "                    print(\"Error: Not enough operands for NOT.\")\n",
    "                    return set()\n",
    "                set1 = stack.pop()\n",
    "                # Αφαιρούμε τα έγγραφα του set1 από το σύνολο όλων των εγγράφων\n",
    "                negated_set = all_docs.difference(set1)\n",
    "                print(f\"NOT operation negates documents: {set1}\")\n",
    "                stack.append(negated_set)\n",
    "        else:  # Αν είναι όρος\n",
    "            stemmed_token = stemmer.stem(token.lower())\n",
    "            result_set = inverted_index.get(stemmed_token, set())\n",
    "            print(f\"Token '{token}' maps to documents: {result_set}\") \n",
    "            stack.append(result_set)\n",
    "\n",
    "    result = stack.pop() if stack else set()\n",
    "    print(f\"Final result: {result}\")  \n",
    "    return result\n",
    "    "
   ]
  },
  {
   "cell_type": "markdown",
   "id": "db1da26f-bf18-43bf-be35-abfba6278252",
   "metadata": {},
   "source": [
    "## ii) Κατάταξη αποτελεσμάτων:\n",
    "Η συνάρτηση compute_tfidf υπολογίζει το TF-IDF σκορ για κάθε έγγραφο του corpus με βάση τους όρους του ερωτήματος. Αρχικά, υπολογίζει το IDF (αντίστροφη συχνότητα εγγράφων) κάθε όρου, που δείχνει πόσο μοναδικός είναι σε σχέση με το σύνολο των εγγράφων. Στη συνέχεια, για κάθε έγγραφο, υπολογίζει τη συχνότητα του όρου (TF) και πολλαπλασιάζει με το αντίστοιχο IDF για να υπολογίσει το συνολικό σκορ. Επιστρέφει τα έγγραφα ταξινομημένα κατά TF-IDF σκορ από το υψηλότερο στο χαμηλότερο."
   ]
  },
  {
   "cell_type": "code",
   "execution_count": 25,
   "id": "54a53fca-195a-461d-92b2-187016231cd6",
   "metadata": {},
   "outputs": [],
   "source": [
    "\n",
    "#Κατάταξη \n",
    "def compute_tfidf(query_terms, corpus):\n",
    "    \"\"\"Υπολογίζει το TF-IDF σκορ κάθε εγγράφου για τους όρους του ερωτήματος.\"\"\"\n",
    "    tfidf_scores = []\n",
    "    num_docs = len(corpus)\n",
    "\n",
    "    # Υπολογισμός IDF με ελάχιστο όριο\n",
    "    idf = {}\n",
    "    for term in query_terms:\n",
    "        doc_count = sum(1 for doc in corpus if term in doc)\n",
    "        idf[term] = max(math.log((num_docs + 1) / (doc_count + 1)), 0.1)  \n",
    "\n",
    "    # Υπολογισμός TF-IDF για κάθε έγγραφο\n",
    "    for doc in corpus:\n",
    "        score = 0\n",
    "        for term in query_terms:\n",
    "            tf = doc.count(term) / len(doc) if len(doc) > 0 else 0\n",
    "            score += tf * idf.get(term, 0)\n",
    "        tfidf_scores.append(score)\n",
    "\n",
    "    ranked_indices = np.argsort(tfidf_scores)[::-1]\n",
    "    return ranked_indices, tfidf_scores"
   ]
  },
  {
   "cell_type": "markdown",
   "id": "118013c4-a4ef-4ac8-b187-d70ccf1004af",
   "metadata": {},
   "source": [
    "Η συνάρτηση compute_bm25 υπολογίζει το BM25 σκορ κάθε εγγράφου για τους όρους του ερωτήματος, το οποίο χρησιμοποιείται για την κατάταξη εγγράφων με βάση τη συνάφεια. Αρχικά, υπολογίζει το IDF (αντίστροφη συχνότητα εγγράφων) κάθε όρου για να μετρήσει πόσο σημαντικός είναι. Στη συνέχεια, για κάθε έγγραφο, υπολογίζει το BM25 σκορ, λαμβάνοντας υπόψη τη συχνότητα των όρων, το μήκος του εγγράφου, και τον μέσο όρο μήκους των εγγράφων. Τελικά, ταξινομεί τα έγγραφα με βάση το σκορ τους από το υψηλότερο στο χαμηλότερο και επιστρέφει τα ταξινομημένα ευρετήρια και τα αντίστοιχα σκορ."
   ]
  },
  {
   "cell_type": "code",
   "execution_count": 26,
   "id": "43802cdc-e7d8-4b9d-92b5-df335e74dc87",
   "metadata": {},
   "outputs": [],
   "source": [
    "\n",
    "def compute_bm25(query_terms, corpus, k1=1.5, b=0.75):\n",
    "    \"\"\"Υπολογίζει το BM25 σκορ κάθε εγγράφου για τους όρους του ερωτήματος.\"\"\"\n",
    "    bm25_scores = []\n",
    "    num_docs = len(corpus)\n",
    "    avg_doc_len = np.mean([len(doc) for doc in corpus]) \n",
    "\n",
    "    # Υπολογισμός IDF για κάθε όρο\n",
    "    idf = {}\n",
    "    for term in query_terms:\n",
    "        doc_count = sum(1 for doc in corpus if term in doc)\n",
    "        idf[term] = math.log((num_docs - doc_count + 0.5) / (doc_count + 0.5) + 1)  \n",
    "\n",
    "    # Υπολογισμός BM25 για κάθε έγγραφο\n",
    "    for doc in corpus:\n",
    "        doc_len = len(doc)\n",
    "        score = 0\n",
    "        for term in query_terms:\n",
    "            freq = doc.count(term)\n",
    "            numerator = freq * (k1 + 1)\n",
    "            denominator = freq + k1 * (1 - b + b * (doc_len / avg_doc_len))\n",
    "            score += idf.get(term, 0) * (numerator / denominator)\n",
    "        bm25_scores.append(score)\n",
    "\n",
    "    ranked_indices = np.argsort(bm25_scores)[::-1]\n",
    "    return ranked_indices, bm25_scores"
   ]
  },
  {
   "cell_type": "markdown",
   "id": "f0231ce3-9356-4355-a563-5dec0a7862c8",
   "metadata": {},
   "source": [
    "Η συνάρτηση compute_vsm υπολογίζει τη συνημιτονοειδή ομοιότητα (cosine similarity) κάθε εγγράφου με το ερώτημα. Πρώτα, υπολογίζει το IDF (αντίστροφη συχνότητα εγγράφων) για κάθε όρο, ώστε να μετρήσει τη σημασία του. Στη συνέχεια, δημιουργεί διανύσματα για το ερώτημα και τα έγγραφα, όπου κάθε όρος σταθμίζεται με βάση το IDF. Υπολογίζει τη συνημιτονοειδή ομοιότητα ως το εσωτερικό γινόμενο των διανυσμάτων διαιρεμένο με το γινόμενο των μηκών τους. Τα αποτελέσματα ταξινομούνται με βάση τη συνάφεια από το υψηλότερο στο χαμηλότερο και επιστρέφονται οι δείκτες των εγγράφων μαζί με τα αντίστοιχα σκορ."
   ]
  },
  {
   "cell_type": "code",
   "execution_count": 27,
   "id": "cd728af4-759e-4078-aae4-c4733740179a",
   "metadata": {},
   "outputs": [],
   "source": [
    "\n",
    "def compute_vsm(query_terms, corpus, debug=False):\n",
    "    \"\"\"Υπολογίζει τη συνημιτονοειδή ομοιότητα (cosine similarity) για κάθε έγγραφο.\"\"\"\n",
    "    from collections import defaultdict\n",
    "    from math import log, sqrt\n",
    "\n",
    "    # Υπολογισμός IDF\n",
    "    term_idf = {}\n",
    "    num_docs = len(corpus)\n",
    "    for doc in corpus:\n",
    "        for term in set(doc):\n",
    "            if term not in term_idf:\n",
    "                doc_count = sum(1 for d in corpus if term in d)\n",
    "                term_idf[term] = max(log((num_docs + 1) / (1 + doc_count)), 0.1)  # Κατώτατο όριο IDF\n",
    "\n",
    "    if debug:\n",
    "        print(f\"IDF Values: {term_idf}\")\n",
    "\n",
    "    # Δημιουργία διανύσματος ερωτήματος\n",
    "    query_vector = defaultdict(float)\n",
    "    for term in query_terms:\n",
    "        term = term.lower()\n",
    "        if term in term_idf:\n",
    "            query_vector[term] = query_terms.count(term) * term_idf[term]\n",
    "\n",
    "    if debug:\n",
    "        print(f\"Query Vector: {dict(query_vector)}\")\n",
    "\n",
    "    # Υπολογισμός διανυσμάτων εγγράφων και cosine similarity\n",
    "    scores = []\n",
    "    for idx, doc in enumerate(corpus):\n",
    "        doc_vector = defaultdict(float)\n",
    "        for term in doc:\n",
    "            if term in term_idf:\n",
    "                doc_vector[term] = doc.count(term) * term_idf[term]\n",
    "\n",
    "        # Υπολογισμός cosine similarity\n",
    "        numerator = sum(query_vector[term] * doc_vector[term] for term in query_vector)\n",
    "        query_norm = sqrt(sum(v**2 for v in query_vector.values()))\n",
    "        doc_norm = sqrt(sum(v**2 for v in doc_vector.values()))\n",
    "        denominator = query_norm * doc_norm\n",
    "\n",
    "        if denominator == 0:\n",
    "            scores.append(0)\n",
    "        else:\n",
    "            scores.append(numerator / denominator)\n",
    "\n",
    "        if debug:\n",
    "            print(f\"Doc {idx} Vector: {dict(doc_vector)}, Score: {scores[-1]}\")\n",
    "\n",
    "    \n",
    "    ranked_indices = np.argsort(scores)[::-1]\n",
    "    return ranked_indices, scores"
   ]
  },
  {
   "cell_type": "markdown",
   "id": "c08a56af-c141-4297-91ac-7a46a63c7c07",
   "metadata": {},
   "source": [
    "Η συνάρτηση search_with_ranking εκτελεί αναζήτηση με βάση ένα ερώτημα και ταξινομεί τα αποτελέσματα χρησιμοποιώντας τον επιλεγμένο αλγόριθμο κατάταξης (tfidf, bm25, ή vsm). Μετατρέπει το ερώτημα σε postfix μορφή, φιλτράρει τα σχετικά έγγραφα μέσω της συνάρτησης evaluate_postfix, και εξάγει τους όρους του ερωτήματος. Ανάλογα με τη μέθοδο κατάταξης, υπολογίζει τα σκορ συνάφειας για τα σχετικά έγγραφα και ταξινομεί τα αποτελέσματα. Επιστρέφει μόνο τα έγγραφα με θετικά σκορ, τα οποία εκτυπώνονται μαζί με τους τίτλους και τα URLs τους, επιτρέποντας την επιλογή κατάλληλου αλγορίθμου για καλύτερα αποτελέσματα."
   ]
  },
  {
   "cell_type": "code",
   "execution_count": 28,
   "id": "2360293f-3c8a-4100-83b4-41370d3afa3a",
   "metadata": {},
   "outputs": [],
   "source": [
    "\n",
    "def search_with_ranking(query, corpus, ranking_method=\"tfidf\"):\n",
    "    \"\"\"Αναζήτηση και κατάταξη με βάση τον επιλεγμένο αλγόριθμο.\"\"\"\n",
    "    postfix_query = infix_to_postfix(query)\n",
    "    filtered_indices = evaluate_postfix(postfix_query)\n",
    "\n",
    "    if not filtered_indices:\n",
    "        print(\"No results found.\")\n",
    "        return None, None  \n",
    "\n",
    "    filtered_indices = list(filtered_indices)\n",
    "    filtered_corpus = [corpus[idx] for idx in filtered_indices]\n",
    "    query_terms = [term for term in query.lower().split() if term not in {\"AND\", \"OR\", \"NOT\"}]\n",
    "\n",
    "    if ranking_method == \"tfidf\":\n",
    "        ranked_indices, scores = compute_tfidf(query_terms, filtered_corpus)\n",
    "    elif ranking_method == \"bm25\":\n",
    "        ranked_indices, scores = compute_bm25(query_terms, filtered_corpus)\n",
    "    elif ranking_method == \"vsm\":\n",
    "        ranked_indices, scores = compute_vsm(query_terms, filtered_corpus)\n",
    "    else:\n",
    "        print(\"Invalid ranking method.\")\n",
    "        return None, None  \n",
    "\n",
    "    # Φιλτράρισμα έγγραφων με σκορ > 0\n",
    "    valid_results = [\n",
    "        (filtered_indices[idx], scores[idx])\n",
    "        for idx in ranked_indices if scores[idx] > 0\n",
    "    ]\n",
    "\n",
    "    if not valid_results:\n",
    "        print(\"No valid results found.\")\n",
    "        return None, None \n",
    "\n",
    "    print(f\"Results ranked by {ranking_method.upper()}:\")\n",
    "    for rank, (doc_idx, score) in enumerate(valid_results):\n",
    "        print(f\"- {articles[doc_idx]['Title']} (Score: {score:.4f}) - URL: {articles[doc_idx]['URL']}\")\n",
    "\n",
    "    return [doc_idx for doc_idx, _ in valid_results], [score for _, score in valid_results]\n"
   ]
  },
  {
   "cell_type": "markdown",
   "id": "028a8004-3fc8-42d7-82e5-a10e580f14fd",
   "metadata": {},
   "source": [
    "## Διεπαφή χρήστη\n",
    "Η συνάρτηση search_interface παρέχει έναν διαδραστικό τρόπο για αναζήτηση χρησιμοποιώντας λογικά ερωτήματα (Boolean queries). Ο χρήστης εισάγει το ερώτημά του και επιλέγει τον αλγόριθμο κατάταξης (TF-IDF, BM25, ή VSM). Η συνάρτηση καλεί τη μέθοδο search_with_ranking για την εκτέλεση της αναζήτησης και την εμφάνιση των αποτελεσμάτων. Ο χρήστης μπορεί να συνεχίσει να εισάγει ερωτήματα ή να τερματίσει τη διεπαφή πληκτρολογώντας exit."
   ]
  },
  {
   "cell_type": "code",
   "execution_count": 29,
   "id": "3e72a26d-7a44-49b8-bcf3-f664b92f676a",
   "metadata": {},
   "outputs": [],
   "source": [
    "\n",
    "#Διεπαφή Αναζήτησης\n",
    "def search_interface():\n",
    "    \"\"\"Διεπαφή αναζήτησης για Boolean queries.\"\"\"\n",
    "    print(\"Welcome to the Search Engine with Ranking Options! Enter your query (type 'exit' to quit):\")\n",
    "    \n",
    "    while True:\n",
    "        query = input(\"Query: \")\n",
    "        if query.lower() == 'exit':\n",
    "            break\n",
    "        \n",
    "        print(\"Choose ranking method: (1) TF-IDF, (2) BM25, (3) VSM\")\n",
    "        choice = input(\"Enter 1, 2, or 3: \")\n",
    "        \n",
    "        if choice == \"1\":\n",
    "            search_with_ranking(query, [doc[\"Cleaned_Content\"].split() for doc in articles], ranking_method=\"tfidf\")\n",
    "        elif choice == \"2\":\n",
    "            search_with_ranking(query, [doc[\"Cleaned_Content\"].split() for doc in articles], ranking_method=\"bm25\")\n",
    "        elif choice == \"3\":\n",
    "            search_with_ranking(query, [doc[\"Cleaned_Content\"].split() for doc in articles], ranking_method=\"vsm\")\n",
    "        else:\n",
    "            print(\"Invalid choice. Please enter 1, 2, or 3.\")"
   ]
  },
  {
   "cell_type": "markdown",
   "id": "3b2d6109-a8b9-4266-bda0-18ced6776427",
   "metadata": {},
   "source": [
    "# Βήμα 5: Αξιολόγηση συστήματος\n",
    "Η συνάρτηση evaluate_search_engine αξιολογεί την απόδοση της μηχανής αναζήτησης χρησιμοποιώντας διάφορες μεθόδους κατάταξης (TF-IDF, BM25, VSM). Ο χρήστης επιλέγει τον αλγόριθμο, και για κάθε ερώτημα υπολογίζονται μετρικές όπως Precision, Recall, F1-Score και Μέση Ακρίβεια (MAP). Συγκρίνονται τα έγγραφα που επιστρέφονται από την αναζήτηση με τα σχετικά έγγραφα για κάθε ερώτημα, ενώ τα αποτελέσματα συνοψίζονται σε επίπεδο ερωτήματος και συνολικά.\n",
    "### Ορόσημο: Αναφορά αξιολόγησης με αποτελέσματα των μετρικών για κάθε ερώτημα και συνολικά."
   ]
  },
  {
   "cell_type": "code",
   "execution_count": 30,
   "id": "c06257a7-ba55-4aaf-ba15-0378a74f1485",
   "metadata": {},
   "outputs": [],
   "source": [
    "\n",
    "def evaluate_search_engine(test_queries, corpus):\n",
    "    while True:\n",
    "        print(\"\\nChoose ranking method for evaluation: (1) TF-IDF, (2) BM25, (3) VSM, (4) Exit\")\n",
    "        choice = input(\"Enter 1, 2, 3, or 4: \")\n",
    "\n",
    "        if choice == \"1\":\n",
    "            ranking_method = \"tfidf\"\n",
    "        elif choice == \"2\":\n",
    "            ranking_method = \"bm25\"\n",
    "        elif choice == \"3\":\n",
    "            ranking_method = \"vsm\"\n",
    "        elif choice == \"4\":\n",
    "            print(\"Exiting evaluation.\")\n",
    "            break\n",
    "        else:\n",
    "            print(\"Invalid choice. Please enter 1, 2, 3, or 4.\")\n",
    "            continue\n",
    "\n",
    "        results = []\n",
    "        all_precisions = []\n",
    "\n",
    "        for query, relevant_docs in test_queries.items():\n",
    "            print(f\"\\nEvaluating query: {query}\")\n",
    "            ranked_indices, scores = search_with_ranking(query, [doc[\"Cleaned_Content\"].split() for doc in corpus], ranking_method)\n",
    "\n",
    "            if ranked_indices is None or scores is None:  # Handle case where no results are found\n",
    "                print(f\"No results for query: {query}\")\n",
    "                continue\n",
    "\n",
    "            # Υπολογισμός Precision, Recall, F1\n",
    "            retrieved_docs = ranked_indices[:len(relevant_docs)]  \n",
    "            true_positive = len(set(retrieved_docs) & set(relevant_docs))\n",
    "            precision = true_positive / len(retrieved_docs) if retrieved_docs else 0\n",
    "            recall = true_positive / len(relevant_docs) if relevant_docs else 0\n",
    "            f1 = (2 * precision * recall / (precision + recall)) if (precision + recall) else 0\n",
    "\n",
    "            # Υπολογισμός Average Precision \n",
    "            precisions = []\n",
    "            retrieved_set = set()\n",
    "            for rank, idx in enumerate(ranked_indices):\n",
    "                if idx in relevant_docs:\n",
    "                    retrieved_set.add(idx)\n",
    "                    precision_at_k = len(retrieved_set) / (rank + 1)\n",
    "                    precisions.append(precision_at_k)\n",
    "            average_precision = sum(precisions) / len(relevant_docs) if precisions else 0\n",
    "            all_precisions.append(average_precision)\n",
    "\n",
    "            results.append({\n",
    "                \"Query\": query,\n",
    "                \"Precision\": precision,\n",
    "                \"Recall\": recall,\n",
    "                \"F1-Score\": f1,\n",
    "                \"Average Precision\": average_precision,\n",
    "            })\n",
    "\n",
    "        # Υπολογισμός Συνολικών Μετρικών\n",
    "        mean_average_precision = sum(all_precisions) / len(all_precisions) if all_precisions else 0\n",
    "        avg_precision = sum(res[\"Precision\"] for res in results) / len(results) if results else 0\n",
    "        avg_recall = sum(res[\"Recall\"] for res in results) / len(results) if results else 0\n",
    "        avg_f1 = sum(res[\"F1-Score\"] for res in results) / len(results) if results else 0\n",
    "\n",
    "        print(\"\\nΑποτελέσματα ανά Ερώτημα:\")\n",
    "        for res in results:\n",
    "            print(f\"- Query: {res['Query']}, Precision: {res['Precision']:.2f}, Recall: {res['Recall']:.2f}, \"\n",
    "                  f\"F1: {res['F1-Score']:.2f}, Average Precision: {res['Average Precision']:.2f}\")\n",
    "\n",
    "        print(\"\\nΣυνολικά Αποτελέσματα:\")\n",
    "        print(f\"Μέση Ακρίβεια (MAP): {mean_average_precision:.2f}\")\n",
    "        print(f\"Μέση Precision: {avg_precision:.2f}\")\n",
    "        print(f\"Μέση Recall: {avg_recall:.2f}\")\n",
    "        print(f\"Μέσο F1-Score: {avg_f1:.2f}\")\n",
    "\n"
   ]
  },
  {
   "cell_type": "markdown",
   "id": "0e8a5450-77b1-455c-81d7-334b56aa45aa",
   "metadata": {},
   "source": [
    "Το τμήμα if __name__ == \"__main__\": είναι το σημείο εκκίνησης του προγράμματος. Ξεκινά ανιχνεύοντας τη Wikipedia από τη σελίδα της Τεχνητής Νοημοσύνης, συλλέγοντας έως 10 άρθρα μέσω της συνάρτησης crawl_wikipedia. Στη συνέχεια, δημιουργεί ένα αντεστραμμένο ευρετήριο με τη συνάρτηση build_inverted_index για γρήγορη αναζήτηση. Παρέχεται διεπαφή για αναζήτηση (search_interface), όπου ο χρήστης μπορεί να εκτελεί λογικά ερωτήματα. Τέλος, η συνάρτηση evaluate_search_engine αξιολογεί την ακρίβεια της μηχανής αναζήτησης σε συγκεκριμένα ερωτήματα δοκιμής. Αυτό το τμήμα συνδυάζει όλες τις κύριες λειτουργίες του προγράμματος για να εκτελεστούν διαδοχικά."
   ]
  },
  {
   "cell_type": "code",
   "execution_count": 31,
   "id": "f37a78a1-53ba-4d4f-bc84-b90b9dfef214",
   "metadata": {},
   "outputs": [
    {
     "name": "stdout",
     "output_type": "stream",
     "text": [
      "Collected and processed article: Artificial intelligence - Wikipedia from https://en.wikipedia.org/wiki/Artificial_intelligence\n",
      "Collected and processed article: Wikipedia, the free encyclopedia from https://en.wikipedia.org/wiki/Main_Page\n",
      "Collected and processed article: Ai - Wikipedia from https://en.wikipedia.org/wiki/AI_(disambiguation)\n",
      "Collected and processed article: Artificial intelligence (disambiguation) - Wikipedia from https://en.wikipedia.org/wiki/Artificial_intelligence_(disambiguation)\n",
      "Collected and processed article: Artificial general intelligence - Wikipedia from https://en.wikipedia.org/wiki/Artificial_general_intelligence\n",
      "Collected and processed article: Intelligent agent - Wikipedia from https://en.wikipedia.org/wiki/Intelligent_agent\n",
      "Collected and processed article: Recursive self-improvement - Wikipedia from https://en.wikipedia.org/wiki/Recursive_self-improvement\n",
      "Collected and processed article: Automated planning and scheduling - Wikipedia from https://en.wikipedia.org/wiki/Automated_planning_and_scheduling\n",
      "Collected and processed article: Computer vision - Wikipedia from https://en.wikipedia.org/wiki/Computer_vision\n",
      "Collected and processed article: General game playing - Wikipedia from https://en.wikipedia.org/wiki/General_game_playing\n",
      "Inverted Index Built: {'artifici': {0, 2, 3, 4, 5, 6, 7, 8, 9}, 'intellig': {0, 2, 3, 4, 5, 6, 7, 8, 9}, 'ai': {0, 2, 4, 5, 6, 7, 8, 9}, 'broadest': {0}, 'sens': {0, 8, 4, 7}, 'exhibit': {0, 3, 4, 5, 6}, 'machin': {0, 2, 3, 4, 5, 8}, 'particularli': {0, 4}, 'comput': {0, 4, 5, 6, 7, 8, 9}, 'system': {0, 4, 5, 6, 7, 8, 9}, 'field': {0, 8, 4, 5}, 'research': {0, 4, 5, 6, 8, 9}, 'scienc': {0, 4, 5}, 'develop': {0, 4, 5, 6, 8, 9}, 'studi': {0, 4, 5, 6, 8}, 'method': {0, 4, 7, 8, 9}, 'softwar': {0, 3, 4, 5, 6, 8, 9}, 'enabl': {0, 8, 4, 6}, 'perceiv': {0, 4, 5}, 'environ': {0, 4, 5, 7, 8, 9}, 'use': {0, 4, 5, 6, 7, 8, 9}, 'learn': {0, 4, 5, 6, 7, 8, 9}, 'take': {0, 4, 5, 6, 7, 8}, 'action': {0, 4, 5, 6, 7, 8, 9}, 'maxim': {0, 5}, 'chanc': {0}, 'achiev': {0, 4, 5, 6, 8}, 'defin': {0, 4, 5, 7, 8, 9}, 'goal': {0, 4, 5, 6, 7, 8, 9}, '1': {0, 4, 5, 6, 7, 8, 9}, 'may': {0, 2, 3, 4, 5, 6, 7, 8}, 'call': {0, 4, 5, 7, 8, 9}, 'high': {0, 8, 4, 5}, 'profil': {0, 9}, 'applic': {0, 4, 5, 7, 8}, 'includ': {0, 4, 5, 6, 7, 8, 9}, 'advanc': {0, 4, 6, 7, 8, 9}, 'web': {0, 4}, 'search': {0, 8, 5, 9}, 'engin': {0, 4, 6, 8, 9}, 'e': {0, 8, 4, 5}, 'g': {0, 8, 4}, 'googl': {0, 4}, 'recommend': {0, 4}, 'youtub': {0}, 'amazon': {0}, 'netflix': {0}, 'virtual': {0, 4, 5}, 'assist': {0, 5}, 'siri': {0, 4}, 'alexa': {0}, 'autonom': {0, 5, 6, 7, 8}, 'vehicl': {0, 8, 5, 7}, 'waymo': {0, 5}, 'gener': {0, 4, 5, 6, 7, 8, 9}, 'creativ': {0, 4}, 'tool': {0, 9, 4, 5}, 'chatgpt': {0, 4, 6}, 'art': {0}, 'superhuman': {0, 4}, 'play': {0, 9, 4}, 'analysi': {0, 8, 4, 5}, 'strategi': {0, 7}, 'game': {0, 9, 5, 7}, 'chess': {0, 9, 5}, 'go': {0, 4, 5}, 'howev': {0, 8, 4, 5}, 'mani': {0, 1, 4, 5, 6, 7, 8, 9}, 'lot': {0, 8}, 'cut': {0, 8}, 'edg': {0, 8}, 'filter': {0, 8}, 'often': {0, 4, 5, 7, 8, 9}, 'without': {0, 4, 6, 8, 9}, 'someth': {0, 8, 4}, 'becom': {0, 4, 5, 6, 7, 8}, 'enough': {0, 4}, 'common': {0, 1, 4, 5, 6, 7, 8, 9}, 'label': {0, 8, 4}, 'anymor': {0}, '2': {0, 4, 5, 6, 7, 8, 9}, '3': {0, 4, 5, 6, 7, 8, 9}, 'variou': {0, 1, 4, 5, 6, 7, 8, 9}, 'subfield': {0, 8, 5}, 'center': {0}, 'around': {0, 8, 4}, 'particular': {0, 4, 5, 7, 8}, 'tradit': {0, 4, 5, 8, 9}, 'reason': {0, 4, 5, 6, 9}, 'knowledg': {0, 8, 4, 5}, 'represent': {0, 8, 5, 7}, 'plan': {0, 4, 5, 6, 7, 8}, 'natur': {0, 4, 5, 6, 8}, 'languag': {0, 4, 5, 6, 7, 9}, 'process': {0, 4, 5, 6, 7, 8, 9}, 'percept': {0, 8, 5}, 'support': {0, 8, 4}, 'robot': {0, 8, 4, 7}, 'abil': {0, 4, 5, 6, 7, 9}, 'complet': {0, 4, 5, 6, 7, 8, 9}, 'task': {0, 4, 5, 7, 8}, 'perform': {0, 4, 5, 6, 8, 9}, 'human': {0, 4, 5, 6, 8, 9}, 'least': {0, 8, 4, 5}, 'equal': {0, 8, 4, 5}, 'level': {0, 4, 5, 6, 8, 9}, 'among': {0, 4, 5}, 'long': {0, 4}, 'term': {0, 4, 5, 6, 7, 8, 9}, '4': {0, 4, 5, 6, 7, 8, 9}, 'reach': {0, 8, 4, 5}, 'adapt': {0, 1, 5, 6, 7, 9}, 'integr': {0, 8, 4, 6}, 'wide': {0, 9, 4, 7}, 'rang': {0, 1, 4, 7, 8, 9}, 'techniqu': {0, 4, 7, 8, 9}, 'mathemat': {0, 8, 4, 5}, 'optim': {0, 8, 5, 7}, 'formal': {0, 4, 5}, 'logic': {0, 9, 5, 7}, 'neural': {0, 8, 4, 5}, 'network': {0, 4, 5, 6, 7, 8}, 'base': {0, 4, 5, 6, 7, 8, 9}, 'statist': {0, 8}, 'oper': {0, 4, 5, 6, 8, 9}, 'econom': {0, 9, 4, 5}, 'b': {0, 4, 7}, 'also': {0, 1, 2, 3, 4, 5, 7, 8, 9}, 'draw': {0, 5}, 'upon': {0, 5}, 'psycholog': {0}, 'linguist': {0}, 'philosophi': {0, 5}, 'neurosci': {0, 4}, '5': {0, 4, 5, 6, 7, 8, 9}, 'found': {0, 1, 4, 7, 8, 9}, 'academ': {0, 4}, 'disciplin': {0, 8}, '1956': {0}, '6': {0, 4, 5, 6, 7, 8, 9}, 'went': {0}, 'multipl': {0, 4, 5, 8, 9}, 'cycl': {0}, 'throughout': {0, 1, 4}, 'histori': {0, 5}, '7': {0, 4, 5, 6, 7, 8, 9}, '8': {0, 4, 5, 6, 7, 8, 9}, 'follow': {0, 4, 5, 6, 8, 9}, 'period': {0, 4}, 'disappoint': {0}, 'loss': {0, 5}, 'fund': {0, 4}, 'known': {0, 4, 5, 7, 8, 9}, 'winter': {0}, '9': {0, 4, 5, 6, 7, 8, 9}, '10': {0, 4, 5, 6, 7, 8, 9}, 'interest': {0, 4}, 'vastli': {0}, 'increas': {0, 8, 4, 5}, '2012': {0, 9, 4}, 'deep': {0, 8, 4, 9}, 'outperform': {0, 4}, 'previou': {0, 8, 4, 9}, '11': {0, 4, 5, 6, 7, 8, 9}, 'growth': {0, 4, 6}, 'acceler': {0, 4}, '2017': {0, 4}, 'transform': {0, 8, 4}, 'architectur': {0, 4, 6}, '12': {0, 4, 5, 6, 7, 8, 9}, 'earli': {0, 4, 5, 6, 7, 8}, '2020': {0, 4}, 'billion': {0, 4}, 'dollar': {0}, 'invest': {0}, 'experienc': {0}, 'rapid': {0, 8, 4, 6}, 'ongo': {0, 9, 4}, 'progress': {0, 4, 5, 8, 9}, 'boom': {0}, 'emerg': {0, 8, 4}, 'midst': {0}, 'creat': {0, 4, 5, 6, 8, 9}, 'modifi': {0, 8, 5, 6}, 'content': {0, 8, 4, 9}, 'expos': {0, 4}, 'sever': {0, 4, 5, 7, 8}, 'unintend': {0}, 'consequ': {0, 9}, 'harm': {0}, 'present': {0, 8, 4}, 'rais': {0, 4, 6}, 'concern': {0, 4, 5, 6, 7, 8}, 'risk': {0, 4, 6}, 'effect': {0, 9, 5, 6}, 'futur': {0, 4, 5, 6}, 'prompt': {0, 4, 5}, 'discuss': {0, 4, 5}, 'regulatori': {0, 4}, 'polici': {0, 7}, 'ensur': {0, 4, 6}, 'safeti': {0, 4, 5, 6}, 'benefit': {0, 4, 5}, 'technolog': {0, 8, 4, 9}, 'problem': {0, 4, 5, 6, 7, 8}, 'simul': {0, 9, 4, 5}, 'broken': {0}, 'subproblem': {0}, 'consist': {0, 5}, 'trait': {0, 4}, 'capabl': {0, 4, 5, 6, 8}, 'expect': {0, 8, 4, 5}, 'display': {0, 4, 5, 6, 8}, 'describ': {0, 4, 5, 7, 8, 9}, 'receiv': {0, 8, 6}, 'attent': {0, 8, 4}, 'cover': {0, 8}, 'scope': {0, 4}, 'algorithm': {0, 4, 5, 8, 9}, 'imit': {0, 5}, 'step': {0, 8, 4, 7}, 'solv': {0, 8, 4, 7}, 'puzzl': {0}, 'make': {0, 4, 5, 7, 8, 9}, 'deduct': {0, 5}, '13': {0, 4, 5, 6, 7, 8, 9}, 'late': {0, 8, 4}, '1980': {0, 9, 4}, '1990': {0, 8, 4}, 'deal': {0, 8, 4, 5}, 'uncertain': {0, 7}, 'incomplet': {0, 4, 7}, 'inform': {0, 4, 5, 6, 7, 8, 9}, 'employ': {0, 8, 9, 7}, 'concept': {0, 4, 5, 6, 8, 9}, 'probabl': {0, 8, 4, 5}, '14': {0, 4, 5, 6, 7, 8, 9}, 'insuffici': {0}, 'larg': {0, 4, 5, 6, 8, 9}, 'experi': {0, 4, 5, 6, 9}, 'combinatori': {0, 7}, 'explos': {0, 6, 7}, 'exponenti': {0, 4, 7}, 'slower': {0, 8}, 'grow': {0, 6}, '15': {0, 4, 5, 6, 8, 9}, 'even': {0, 8, 4, 5}, 'rare': {0, 8}, 'could': {0, 4, 5, 6, 8, 9}, 'model': {0, 4, 5, 6, 7, 8}, 'fast': {0, 8}, 'intuit': {0}, 'judgment': {0}, '16': {0, 4, 5, 6, 8, 9}, 'accur': {0, 4, 5, 7, 8}, 'effici': {0, 4, 6}, 'unsolv': {0}, '17': {0, 4, 5, 6, 8, 9}, 'allow': {0, 4, 5, 8, 9}, 'program': {0, 4, 5, 6, 7, 8, 9}, 'answer': {0, 9, 4, 5}, 'question': {0, 4, 5, 7}, 'real': {0, 4, 5, 7, 8, 9}, 'world': {0, 4, 5, 7, 8, 9}, 'fact': {0, 8, 7}, 'index': {0, 8, 4}, 'retriev': {0}, '18': {0, 4, 5, 8, 9}, 'scene': {0, 8}, 'interpret': {0, 4, 5, 7, 8, 9}, '19': {0, 1, 4, 5, 8, 9}, 'clinic': {0}, 'decis': {0, 4, 5, 7, 8}, '20': {0, 9, 4, 5}, 'discoveri': {0}, 'mine': {0}, 'infer': {0, 8}, 'databas': {0, 8}, '21': {0, 4, 5, 8, 9}, 'area': {0, 8}, '22': {0, 4, 5, 8, 9}, 'bodi': {0, 4, 5}, 'repres': {0, 4, 7, 8, 9}, 'form': {0, 4, 5, 6, 7, 8}, 'ontolog': {0}, 'set': {0, 4, 5, 7, 8, 9}, 'object': {0, 4, 5, 6, 7, 8}, 'relat': {0, 4, 5, 7, 8}, 'properti': {0, 7}, 'domain': {0, 9, 4, 7}, '23': {0, 4, 5, 8, 9}, 'need': {0, 4, 5, 7, 8, 9}, 'thing': {0, 4}, 'categori': {0}, '24': {0, 4, 5, 8, 9}, 'situat': {0, 8, 5, 7}, 'event': {0, 8, 7}, 'state': {0, 4, 5, 7, 8, 9}, 'time': {0, 4, 5, 7, 8, 9}, '25': {0, 9, 4, 5}, 'caus': {0, 6}, '26': {0, 9, 4, 5}, 'know': {0, 8, 4}, 'peopl': {0, 4, 5}, '27': {0, 9, 4, 5}, 'default': {0}, 'assum': {0, 8, 4}, 'true': {0, 4, 5}, 'told': {0}, 'differ': {0, 4, 5, 7, 8, 9}, 'remain': {0, 4}, 'chang': {0, 4, 5, 7, 8, 9}, '28': {0, 4, 5}, 'aspect': {0, 8, 4, 5}, 'difficult': {0, 4, 5}, 'breadth': {0, 9, 4}, 'commonsens': {0, 4}, 'atom': {0}, 'averag': {0, 9, 4, 5}, 'person': {0, 8, 4, 5}, 'enorm': {0, 4}, '29': {0, 4, 5}, 'sub': {0, 8, 4, 5}, 'symbol': {0, 8, 4, 5}, 'much': {0, 8, 4, 7}, 'statement': {0, 4, 7}, 'express': {0, 4, 7}, 'verbal': {0}, 'difficulti': {0, 4, 5, 7, 9}, 'acquisit': {0, 8}, 'obtain': {0, 8, 5}, 'c': {0, 4, 7}, 'agent': {0, 4, 5, 6, 7, 9}, 'anyth': {0, 5}, 'ration': {0, 4, 5, 7}, 'prefer': {0, 6, 7}, 'happen': {0, 4}, '32': {0, 8, 4, 5}, 'autom': {0, 4, 5, 7, 8, 9}, 'specif': {0, 4, 5, 7, 8, 9}, '33': {0, 8, 4, 5}, 'would': {0, 8, 4, 5}, 'tri': {0, 4}, 'avoid': {0, 4, 5}, 'assign': {0, 5, 7}, 'number': {0, 4, 5, 6, 9}, 'util': {0, 8, 5}, 'measur': {0, 4, 5, 6, 8}, 'possibl': {0, 1, 4, 5, 6, 7, 8}, 'calcul': {0, 5}, 'outcom': {0, 4, 5, 7, 9}, 'weight': {0, 4}, 'occur': {0, 4}, 'choos': {0, 5, 7}, 'maximum': {0, 4}, '34': {0, 8, 4, 5}, 'classic': {0, 8, 4, 7}, 'exactli': {0}, '35': {0, 5}, 'certain': {0, 4, 5, 8, 9}, 'unknown': {0, 4, 5, 7}, 'unobserv': {0, 5}, 'determinist': {0, 7}, 'must': {0, 4, 5, 6, 7, 9}, 'probabilist': {0, 7}, 'guess': {0}, 'reassess': {0}, 'see': {0, 8, 4}, 'work': {0, 4, 5, 6, 8}, '36': {0, 5}, 'especi': {0, 8, 4}, 'involv': {0, 8, 5, 7}, 'invers': {0}, 'reinforc': {0, 9, 5, 7}, 'seek': {0, 8, 5}, 'improv': {0, 4, 5, 6}, '37': {0, 4, 5}, 'valu': {0, 4, 5, 7, 9}, 'theori': {0, 4, 5, 6, 7, 8}, 'weigh': {0}, 'exploratori': {0}, 'experiment': {0, 9}, '38': {0, 5}, 'space': {0, 8, 4, 7}, 'typic': {0, 8, 7}, 'intract': {0}, 'evalu': {0, 4, 5, 7, 9}, 'markov': {0, 8, 7}, 'transit': {0}, 'way': {0, 4, 5, 6, 8, 9}, 'reward': {0, 5, 6, 7, 9}, 'function': {0, 4, 5, 7, 8, 9}, 'suppli': {0, 9}, 'cost': {0, 5}, 'associ': {0, 9, 4}, 'iter': {0, 9, 6, 7}, 'heurist': {0}, '39': {0, 8, 5}, 'behavior': {0, 5, 6, 7, 8}, 'interact': {0, 8, 5, 9}, '40': {0, 8, 5}, 'given': {0, 4, 5, 7, 8, 9}, 'automat': {0, 5, 7, 8, 9}, '41': {0, 8, 5}, 'part': {0, 8, 4, 5}, 'begin': {0, 6}, 'kind': {0, 8, 5, 6}, 'unsupervis': {0}, 'analyz': {0, 8, 4}, 'stream': {0}, 'data': {0, 8, 4, 5}, 'find': {0, 4, 5, 8, 9}, 'pattern': {0, 4}, 'predict': {0, 4, 5, 6, 7}, 'guidanc': {0, 8}, '44': {0, 9, 5}, 'supervis': {0, 5}, 'requir': {0, 4, 6, 7, 8}, 'train': {0, 4, 5, 6}, 'come': {0, 4, 5, 6, 8}, 'two': {0, 4, 7, 8, 9}, 'main': {0, 4, 7}, 'varieti': {0, 8, 4, 9}, 'classif': {0, 8, 5, 7}, 'input': {0, 4, 5, 7, 8, 9}, 'belong': {0, 8}, 'regress': {0}, 'deduc': {0}, 'numer': {0, 8, 7}, '45': {0, 9, 5}, 'good': {0, 8, 9}, 'respons': {0, 4, 5}, 'punish': {0, 5}, 'bad': {0, 9}, 'one': {0, 4, 5, 6, 7, 8, 9}, 'classifi': {0, 8, 4}, '46': {0, 9, 5}, 'transfer': {0, 9}, 'gain': {0, 8, 9}, 'appli': {0, 4, 5, 7, 8, 9}, 'new': {0, 4, 5, 6, 8}, '47': {0, 9, 4}, 'type': {0, 4, 5, 7, 8}, 'run': {0, 9, 6}, 'biolog': {0, 8, 4}, 'inspir': {0, 8, 4}, '48': {0, 8, 4, 9}, 'assess': {0}, 'learner': {0}, 'complex': {0, 5, 7, 8, 9}, 'sampl': {0}, 'notion': {0, 4}, '49': {0, 8, 4, 9}, 'nlp': {0}, '50': {0, 8, 4, 9}, 'read': {0, 8, 4, 6}, 'write': {0, 4, 6}, 'commun': {0, 8, 4, 5}, 'english': {0, 1}, 'speech': {0, 4}, 'recognit': {0, 8, 4}, 'synthesi': {0, 7}, 'translat': {0, 4}, 'extract': {0, 8}, '51': {0, 9, 4}, 'noam': {0}, 'chomski': {0}, 'grammar': {0}, 'semant': {0, 9}, 'word': {0}, 'disambigu': {0}, 'f': {0, 4, 5}, 'unless': {0, 4}, 'restrict': {0, 6}, 'small': {0, 1, 4, 7, 8}, 'micro': {0}, 'due': {0, 8, 4, 6}, 'margaret': {0}, 'masterman': {0}, 'believ': {0, 8, 4}, 'mean': {0, 8, 4, 7}, 'key': {0}, 'understand': {0, 4, 5, 6, 8}, 'thesauru': {0}, 'dictionari': {0}, 'basi': {0, 8, 5}, 'structur': {0, 8, 5, 9}, 'modern': {0, 8, 4, 5}, 'embed': {0, 8}, 'vector': {0}, 'encod': {0, 5}, '52': {0, 9, 4}, 'mechan': {0, 8}, '53': {0, 4}, 'other': {0, 8, 4, 5}, '54': {0, 4}, '2019': {0}, 'pre': {0, 8, 4}, 'gpt': {0, 4}, 'began': {0, 8, 4}, 'coher': {0}, 'text': {0, 4, 5}, '55': {0}, '56': {0, 4}, '2023': {0, 4}, 'abl': {0, 9, 4}, 'get': {0, 8, 4}, 'score': {0, 4, 5}, 'bar': {0}, 'exam': {0}, 'sat': {0}, 'test': {0, 4, 5, 6, 8, 9}, 'gre': {0}, '57': {0}, 'sensor': {0, 8, 5, 7}, 'camera': {0, 8}, 'microphon': {0}, 'wireless': {0, 8}, 'signal': {0, 8, 7}, 'activ': {0, 8, 4, 7}, 'lidar': {0, 8}, 'sonar': {0, 8}, 'radar': {0, 8}, 'tactil': {0, 8}, 'vision': {0, 8, 4}, 'visual': {0, 8, 4}, '58': {0, 4}, '59': {0, 4}, 'imag': {0, 8, 4}, '60': {0, 8, 4}, 'facial': {0}, '61': {0}, 'track': {0, 8, 5}, '62': {0, 4}, '63': {0, 4}, 'affect': {0, 4, 5}, 'compris': {0}, 'recogn': {0, 8}, 'feel': {0}, 'emot': {0, 4}, 'mood': {0}, '65': {0, 4}, 'exampl': {0, 4, 5, 6, 7, 8, 9}, 'speak': {0, 7}, 'convers': {0, 4}, 'banter': {0}, 'humor': {0}, 'appear': {0, 4, 5, 6, 8}, 'sensit': {0}, 'dynam': {0, 7}, 'otherwis': {0, 4, 5}, 'facilit': {0, 4, 6}, 'tend': {0, 8}, 'give': {0, 9, 4, 5}, 'naïv': {0}, 'user': {0, 8, 5, 7}, 'unrealist': {0}, 'exist': {0, 8, 4, 5}, '66': {0, 4}, 'moder': {0}, 'success': {0, 9, 4, 5}, 'textual': {0}, 'sentiment': {0}, 'recent': {0, 8, 4}, 'multimod': {0, 4}, 'wherein': {0}, 'videotap': {0}, 'subject': {0, 9, 4}, '67': {0, 4}, 'versatil': {0, 4}, 'similar': {0, 4, 5, 7, 8, 9}, 'u': {0, 4, 5}, 'accomplish': {0, 4, 5}, 'solut': {0, 4, 7}, '68': {0, 4}, 'local': {0, 8}, 'tree': {0, 9, 7}, '69': {0, 4}, 'subgoal': {0}, 'attempt': {0, 4, 5, 6}, 'path': {0, 8, 4, 9}, 'target': {0, 8}, 'end': {0, 8, 4, 9}, '70': {0, 4}, 'simpl': {0, 4, 5, 7, 9}, 'exhaust': {0}, '71': {0, 4}, 'suffici': {0, 4, 7}, 'place': {0, 8, 4}, 'quickli': {0}, 'astronom': {0}, 'result': {0, 8, 4, 6}, 'slow': {0, 4, 5, 6}, 'never': {0, 4}, 'rule': {0, 9, 5}, 'thumb': {0}, 'help': {0, 4, 5, 7}, 'priorit': {0}, 'choic': {0, 7}, 'like': {0, 4, 5, 7, 8, 9}, '72': {0, 4}, 'adversari': {0, 5}, 'move': {0, 9, 4, 5}, 'countermov': {0}, 'look': {0, 8, 4}, 'win': {0, 9, 5}, 'posit': {0, 8}, '73': {0, 4}, 'refin': {0}, 'increment': {0, 5}, '74': {0, 4}, 'gradient': {0}, 'descent': {0}, 'paramet': {0}, 'adjust': {0, 8, 9}, 'minim': {0, 4, 5}, 'variant': {0}, 'commonli': {0, 7}, '75': {0, 4}, 'backpropag': {0}, 'anoth': {0, 4, 6, 8, 9}, 'evolutionari': {0, 9, 4, 5}, 'aim': {0, 8, 9}, 'candid': {0}, 'mutat': {0, 5}, 'recombin': {0}, 'select': {0, 5, 6, 7, 8}, 'fittest': {0}, 'surviv': {0, 4}, '76': {0, 4}, 'distribut': {0}, 'coordin': {0}, 'via': {0, 5}, 'swarm': {0, 5}, 'popular': {0, 9, 4}, 'particl': {0}, 'bird': {0, 1, 8}, 'flock': {0}, 'ant': {0, 8}, 'coloni': {0}, 'trail': {0}, '77': {0, 4}, '78': {0, 4, 6}, 'proposit': {0}, 'fals': {0}, 'connect': {0, 4}, 'impli': {0, 8, 5}, '79': {0, 4}, 'predic': {0}, 'quantifi': {0, 9}, 'everi': {0, 8, 5, 7}, 'x': {0, 8}, '80': {0, 4}, 'prove': {0}, 'conclus': {0}, 'premis': {0}, '81': {0, 4}, 'proof': {0}, 'node': {0, 9, 7}, 'sentenc': {0}, 'child': {0, 9, 4}, 'parent': {0}, 'reduc': {0, 8, 4, 7}, 'whose': {0, 9, 5}, 'root': {0}, 'leaf': {0}, 'axiom': {0, 9}, 'case': {0, 4, 5, 6, 7, 8}, 'horn': {0}, 'claus': {0}, 'forward': {0, 5}, 'backward': {0}, '82': {0, 4}, 'clausal': {0}, 'first': {0, 8, 4, 9}, 'order': {0, 4, 5, 7, 8, 9}, 'resolut': {0, 4}, 'singl': {0, 8, 7}, 'free': {0, 4}, 'contradict': {0}, 'negat': {0}, '83': {0, 4}, 'undecid': {0}, 'therefor': {0, 8}, 'underpin': {0}, 'prolog': {0}, 'ture': {0, 4, 5, 6}, 'moreov': {0}, 'competit': {0, 4, 6, 8, 9}, '84': {0, 4}, 'fuzzi': {0, 5}, 'degre': {0, 8, 4, 5}, 'truth': {0}, '0': {0, 5}, 'handl': {0, 8, 5, 7}, 'vagu': {0, 5}, 'partial': {0, 5, 7}, '85': {0, 4}, 'non': {0, 1, 4, 5, 7, 8}, 'monoton': {0}, 'failur': {0}, 'design': {0, 4, 5, 6, 8, 9}, 'special': {0, 8, 4, 9}, 'version': {0, 4, 5}, 'devis': {0}, '86': {0, 4}, 'precis': {0, 4, 7}, '87': {0, 4}, '88': {0, 4}, '89': {0, 4}, '90': {0, 4}, '91': {0, 4}, 'bayesian': {0}, '92': {0, 4}, '94': {0, 4}, 'h': {0}, '96': {0}, '97': {0}, 'smooth': {0}, 'explan': {0}, 'thu': {0, 4, 5, 7}, 'hidden': {0}, 'kalman': {0}, 'simplest': {0, 8, 9, 7}, 'divid': {0, 5, 7}, 'shini': {0}, 'diamond': {0}, 'hand': {0, 4, 7, 8, 9}, 'control': {0, 4, 5, 6, 7, 8}, 'pick': {0, 8}, '98': {0, 4}, 'match': {0, 8, 4}, 'determin': {0, 8, 5, 7}, 'closest': {0}, 'fine': {0, 8}, 'tune': {0}, 'chosen': {0}, 'observ': {0, 4, 5, 7}, 'predefin': {0, 9, 4}, 'class': {0, 8, 5, 7}, 'combin': {0, 8, 4, 5}, '99': {0, 4}, '100': {0, 4}, 'k': {0}, 'nearest': {0, 5}, 'neighbor': {0, 5}, 'analog': {0, 5}, 'mid': {0, 4, 7}, 'kernel': {0}, 'svm': {0}, 'displac': {0, 5}, '101': {0, 4}, 'naiv': {0}, 'bay': {0}, 'reportedli': {0}, '102': {0, 4}, 'scalabl': {0}, '103': {0, 4}, '104': {0, 4}, 'collect': {0}, 'neuron': {0, 8, 4}, 'loos': {0}, 'brain': {0, 8, 4}, 'recognis': {0}, 'fresh': {0}, 'layer': {0, 5}, 'output': {0, 4, 5, 8, 9}, 'cross': {0}, 'specifi': {0, 8, 7}, 'threshold': {0, 4}, 'transmit': {0}, 'next': {0, 8}, 'right': {0, 4}, '105': {0, 4}, 'relationship': {0}, '106': {0, 4}, 'feedforward': {0}, 'pa': {0, 8, 4}, 'direct': {0, 4, 5, 8, 9}, '107': {0, 4}, 'recurr': {0}, 'feed': {0, 1}, 'back': {0}, 'short': {0, 4}, 'memori': {0}, '108': {0, 4}, 'perceptron': {0}, '109': {0, 4}, '110': {0, 4}, 'convolut': {0, 8}, 'strengthen': {0}, 'close': {0, 8, 5, 7}, 'import': {0, 8, 5}, 'identifi': {0, 4, 7}, '111': {0, 4}, 'higher': {0, 5}, 'featur': {0, 8, 4}, 'raw': {0}, 'lower': {0, 5}, 'relev': {0, 8, 4}, 'digit': {0, 8, 5}, 'letter': {0}, 'face': {0, 8, 4, 9}, '112': {0, 4}, 'profoundli': {0}, '113': {0, 4}, 'well': {0, 1, 4, 5, 7, 8, 9}, '114': {0, 4}, 'sudden': {0}, '2015': {0, 4}, 'theoret': {0, 8, 9}, 'breakthrough': {0, 4}, 'far': {0, 4, 7, 8, 9}, '1950': {0, 4}, 'factor': {0, 8}, 'incred': {0, 4}, 'power': {0, 8, 4}, 'hundr': {0, 8, 4}, 'fold': {0}, 'speed': {0, 8}, 'switch': {0, 4}, 'gpu': {0, 8, 4}, 'avail': {0, 1, 4, 7, 8, 9}, 'vast': {0}, 'amount': {0, 4}, 'giant': {0}, 'curat': {0}, 'dataset': {0, 5}, 'benchmark': {0, 8, 4, 5}, 'imagenet': {0, 8, 4}, 'j': {0, 1}, 'llm': {0, 4, 6}, 'pretrain': {0}, 'corpu': {0}, 'internet': {0}, 'token': {0}, 'usual': {0, 4, 7, 8, 9}, 'subword': {0}, 'punctuat': {0}, 'accumul': {0}, 'repeatedli': {0}, 'subsequ': {0}, 'phase': {0}, 'harmless': {0}, 'feedback': {0, 5, 6}, 'rlhf': {0}, 'current': {0, 4, 5, 7, 8, 9}, 'prone': {0}, 'falsehood': {0}, 'hallucin': {0, 5}, 'although': {0, 4, 7}, 'qualiti': {0, 8, 4, 9}, 'chatbot': {0, 4}, 'ask': {0, 4, 5}, 'request': {0, 5}, '122': {0}, '123': {0}, 'servic': {0}, 'gemini': {0}, 'formerli': {0}, 'bard': {0}, 'grok': {0}, 'claud': {0, 6}, 'copilot': {0}, 'llama': {0, 4}, '124': {0, 4}, 'modal': {0, 4}, 'video': {0, 8, 9}, 'sound': {0}, '125': {0, 4}, '2010': {0, 4, 5}, 'graphic': {0, 8}, 'unit': {0, 8, 4}, 'increasingli': {0, 4, 6, 8, 9}, 'enhanc': {0, 8, 6}, 'tensorflow': {0}, 'replac': {0, 4, 7}, 'previous': {0, 5}, 'central': {0, 1}, 'cpu': {0, 8, 4}, 'domin': {0, 4}, 'scale': {0, 8, 4}, 'commerci': {0, 9, 4}, '126': {0, 4}, '127': {0, 4}, 'purpos': {0, 8, 4, 9}, 'python': {0}, 'predomin': {0}, '128': {0, 4}, 'transistor': {0}, 'densiti': {0}, 'circuit': {0}, 'roughli': {0}, 'doubl': {0}, 'month': {0}, 'trend': {0, 8, 4}, 'moor': {0}, 'law': {0, 4}, 'name': {0, 4, 5, 7, 8}, 'intel': {0}, 'co': {0, 4}, 'founder': {0, 4}, 'gordon': {0}, 'faster': {0, 9, 4}, '129': {0, 4}, 'essenti': {0, 4, 5}, 'onlin': {0, 9, 7}, 'advertis': {0}, 'offer': {0, 9, 4}, 'drive': {0, 8, 4, 5}, 'traffic': {0, 5}, 'adsens': {0}, 'facebook': {0}, 'drone': {0}, 'ada': {0}, 'self': {0, 5, 6}, 'car': {0, 8, 5}, 'microsoft': {0, 4, 5}, 'appl': {0, 4}, 'id': {0}, 'deepfac': {0}, 'facenet': {0}, 'iphoto': {0}, 'tiktok': {0}, 'deploy': {0}, 'overseen': {0}, 'chief': {0}, 'offic': {0, 4}, 'cao': {0}, 'medicin': {0}, 'medic': {0, 8, 4}, 'potenti': {0, 4, 5, 6, 9}, 'patient': {0, 8}, 'care': {0, 4}, 'life': {0, 8, 4}, '130': {0, 4}, 'len': {0, 8}, 'hippocrat': {0}, 'oath': {0}, 'profession': {0}, 'ethic': {0, 4, 5, 6}, 'compel': {0}, 'diagnos': {0, 8}, 'treat': {0, 8}, '131': {0, 4}, '132': {0}, 'big': {0}, 'organoid': {0}, 'tissu': {0}, 'microscopi': {0}, 'fabric': {0}, '133': {0}, 'suggest': {0, 4, 5}, 'overcom': {0, 7}, 'discrep': {0}, 'alloc': {0}, 'deepen': {0}, 'biomed': {0}, 'pathway': {0}, 'alphafold': {0}, '2021': {0}, 'demonstr': {0, 2, 4, 6, 7, 8}, 'approxim': {0, 4}, 'hour': {0}, 'rather': {0, 4, 5, 7, 8, 9}, '3d': {0, 8}, 'protein': {0}, '134': {0}, 'report': {0, 4}, 'guid': {0}, 'drug': {0}, 'antibiot': {0}, 'kill': {0}, 'resist': {0}, 'bacteria': {0}, '135': {0}, '2024': {0, 4, 6}, 'parkinson': {0}, 'diseas': {0}, 'treatment': {0, 8}, 'compound': {0, 5}, 'block': {0, 7}, 'clump': {0}, 'aggreg': {0}, 'alpha': {0, 9}, 'synuclein': {0}, 'characteris': {0}, 'initi': {0, 4, 5, 6, 7}, 'screen': {0}, 'ten': {0, 4}, 'thousand': {0, 8}, '136': {0, 4}, '137': {0, 4}, 'menstruat': {0}, 'fertil': {0}, 'tracker': {0}, '138': {0, 4}, 'sex': {0}, 'toy': {0}, 'teledildon': {0}, '139': {0, 4}, 'sexual': {0}, 'educ': {0, 4}, '140': {0, 4}, 'romant': {0}, 'partner': {0}, 'replika': {0}, '141': {0, 4}, 'product': {0, 8, 4, 5}, 'consensu': {0, 4}, 'deepfak': {0}, 'pornographi': {0}, 'signific': {0, 4, 6, 8, 9}, 'legal': {0, 9, 4, 5}, '142': {0, 4}, 'gender': {0}, 'violenc': {0}, 'groom': {0}, 'minor': {0, 4}, '143': {0, 4}, '144': {0, 4}, 'sinc': {0, 9, 4, 7}, '145': {0, 4}, 'blue': {0}, 'becam': {0, 8, 4}, 'beat': {0}, 'reign': {0}, 'champion': {0}, 'garri': {0}, 'kasparov': {0}, '1997': {0, 4}, '146': {0, 4}, '2011': {0, 4}, 'jeopardi': {0}, 'quiz': {0}, 'show': {0, 7}, 'ibm': {0}, 'watson': {0}, 'defeat': {0}, 'greatest': {0}, 'brad': {0}, 'rutter': {0}, 'ken': {0}, 'jen': {0}, 'margin': {0}, '147': {0, 4}, 'march': {0, 4}, '2016': {0, 8}, 'alphago': {0}, 'lee': {0}, 'sedol': {0}, 'player': {0, 9}, 'handicap': {0}, 'ke': {0}, 'jie': {0}, 'best': {0, 4, 5, 8, 9}, '148': {0, 4}, 'imperfect': {0, 8}, 'poker': {0}, 'pluribu': {0}, '149': {0, 4}, 'deepmind': {0, 4}, 'generalist': {0, 6}, 'muzero': {0}, 'atari': {0, 9}, '150': {0, 4}, 'alphastar': {0}, 'grandmast': {0}, 'starcraft': {0}, 'ii': {0}, 'challeng': {0, 8, 4}, 'map': {0, 8, 4, 5}, '151': {0, 4}, 'compet': {0, 4, 5, 6}, 'playstat': {0}, 'gran': {0}, 'turismo': {0}, 'four': {0, 4, 5}, 'driver': {0, 8, 5}, '152': {0, 4}, 'introduc': {0, 4, 7}, 'sima': {0, 5}, 'nine': {0}, 'unseen': {0}, 'open': {0, 9, 4}, 'execut': {0, 5, 6, 7}, 'instruct': {0}, '153': {0, 4}, '154': {0, 4}, 'contrast': {0, 8, 4, 7}, 'turbo': {0}, 'ultra': {0}, 'opu': {0}, 'mistral': {0}, 'produc': {0, 4, 5, 7, 8}, 'wrong': {0, 8, 4}, 'annot': {0}, 'correct': {0, 4}, '155': {0, 4}, 'math': {0}, 'low': {0, 8, 4, 5}, 'deviat': {0}, '156': {0, 4}, 'altern': {0, 4, 5, 7, 9}, 'dedic': {0}, 'theorem': {0}, 'tensor': {0}, 'geometri': {0, 8}, '157': {0, 4}, 'llemma': {0}, 'eleuth': {0}, '158': {0, 4}, 'juliu': {0}, '159': {0, 4}, 'convert': {0}, 'lean': {0}, 'serv': {0, 4}, '160': {0, 4}, 'financ': {0}, 'fastest': {0}, 'sector': {0}, 'retail': {0}, 'bank': {0}, 'advic': {0}, 'insur': {0}, 'advis': {0}, 'year': {0, 4}, '161': {0, 4}, 'pension': {0}, 'expert': {0, 4, 6}, 'nicola': {0}, 'firzli': {0}, 'insist': {0}, 'highli': {0, 8}, 'innov': {0, 4}, 'financi': {0}, 'simpli': {0, 4, 7}, 'automatis': {0}, 'destroy': {0}, 'job': {0, 4, 5}, 'sure': {0, 4}, 'unleash': {0}, 'wave': {0, 4}, 'sophist': {0, 8}, '162': {0, 4}, 'countri': {0, 4}, 'militari': {0, 8, 4}, '163': {0, 4}, 'command': {0, 9, 5, 7}, 'interoper': {0}, '164': {0, 4}, 'logist': {0, 7}, 'cyber': {0}, 'semiautonom': {0}, 'effector': {0}, 'threat': {0, 6}, 'detect': {0, 8, 4, 7}, 'identif': {0}, 'mark': {0, 8, 4, 9}, 'enemi': {0, 8}, 'deconflict': {0}, 'joint': {0, 4}, 'fire': {0, 8}, 'combat': {0, 8}, 'man': {0, 8, 4}, 'unman': {0, 8, 7}, 'team': {0}, 'iraq': {0}, 'syria': {0}, 'israel': {0}, 'ukrain': {0}, '165': {0, 4}, '166': {0, 4}, '167': {0, 4}, 'widespread': {0, 4}, 'promin': {0, 8}, 'genai': {0}, '168': {0, 4}, '169': {0}, '170': {0}, '171': {0}, 'adult': {0, 4}, 'heard': {0}, '172': {0}, 'realism': {0}, 'eas': {0, 8}, 'midjourney': {0}, 'dall': {0}, 'stabl': {0, 4}, 'diffus': {0}, 'spark': {0, 4}, 'viral': {0}, 'photo': {0}, 'fake': {0, 6}, 'pope': {0}, 'franci': {0}, 'wear': {0, 8}, 'white': {0}, 'puffer': {0}, 'coat': {0}, 'fiction': {0, 9, 4}, 'arrest': {0}, 'donald': {0}, 'trump': {0}, 'hoax': {0}, 'attack': {0}, 'pentagon': {0}, 'usag': {0, 9, 4}, '173': {0}, '174': {0}, 'entiti': {0, 4, 6}, 'industri': {0, 8, 4}, 'within': {0, 8, 4}, 'constraint': {0, 6, 7}, 'resourc': {0, 5, 6}, 'hardwar': {0, 8, 4, 5}, 'limit': {0, 4, 6}, 'finit': {0, 5, 7}, 'incorpor': {0, 9, 5}, 'optimis': {0}, 'behaviour': {0, 4}, '175': {0}, '176': {0}, '177': {0}, 'institut': {0, 4}, 'survey': {0, 4}, 'five': {0, 4, 5}, 'compani': {0, 8, 4}, '178': {0}, 'energi': {0}, 'storag': {0}, 'diagnosi': {0}, 'judici': {0}, 'foreign': {0}, 'chain': {0, 9}, 'manag': {0, 8, 9, 7}, 'evacu': {0}, 'disast': {0, 4}, 'investig': {0}, 'histor': {0, 4}, 'gp': {0}, 'social': {0, 4, 5}, 'medium': {0}, 'provid': {0, 8, 4, 5}, 'condit': {0, 5, 7}, '179': {0}, '180': {0}, '181': {0}, 'agricultur': {0, 8, 4}, 'farmer': {0}, 'irrig': {0}, 'pesticid': {0}, 'yield': {0}, 'agronomist': {0}, 'conduct': {0, 4}, 'ripen': {0}, 'crop': {0}, 'tomato': {0}, 'monitor': {0, 8, 9}, 'soil': {0}, 'moistur': {0}, 'analyt': {0}, 'livestock': {0}, 'pig': {0}, 'greenhous': {0}, 'pest': {0}, 'save': {0}, 'water': {0}, 'astronomi': {0}, 'mainli': {0}, 'cluster': {0, 4}, 'forecast': {0}, 'scientif': {0, 8, 4, 5}, 'insight': {0}, 'discov': {0, 7}, 'exoplanet': {0}, 'solar': {0}, 'distinguish': {0, 8, 5}, 'instrument': {0, 4, 6}, 'gravit': {0}, 'addit': {0, 4, 5, 8, 9}, 'explor': {0, 8, 4}, 'mission': {0, 8, 6}, 'spacecraft': {0}, 'debri': {0}, 'indian': {0}, 'elect': {0}, 'million': {0, 8}, 'spent': {0}, 'author': {0, 4}, 'notabl': {0, 4}, 'alli': {0}, 'sometim': {0, 4, 5, 7, 8, 9}, 'deceas': {0}, 'politician': {0}, 'better': {0, 4, 5, 8, 9}, 'engag': {0, 4}, 'voter': {0}, '182': {0}, '183': {0}, 'seriou': {0}, 'demi': {0, 4}, 'hassabi': {0, 4}, 'hope': {0, 4}, 'everyth': {0, 4, 7}, 'els': {0}, '184': {0}, '185': {0}, 'bia': {0, 4, 5}, 'inher': {0}, 'unexplain': {0}, '186': {0}, 'acquir': {0, 4, 5, 6, 8}, 'privaci': {0, 5}, 'surveil': {0, 4}, 'copyright': {0}, 'devic': {0, 8, 4}, 'iot': {0}, 'continu': {0, 4, 6}, 'intrus': {0}, 'gather': {0}, 'unauthor': {0}, 'access': {0, 4}, 'third': {0}, 'parti': {0}, 'exacerb': {0}, 'lead': {0, 4, 5, 6}, 'societi': {0, 4}, 'individu': {0, 9, 5}, 'constantli': {0}, 'adequ': {0, 4}, 'safeguard': {0, 4}, 'transpar': {0}, 'record': {0, 9}, 'geoloc': {0}, 'audio': {0, 4}, '187': {0}, 'build': {0}, 'privat': {0}, 'temporari': {0}, 'worker': {0, 4}, 'listen': {0}, 'transcrib': {0}, '188': {0}, 'opinion': {0, 4}, 'necessari': {0, 4, 5, 6, 8, 9}, 'evil': {0}, 'clearli': {0}, 'uneth': {0}, 'violat': {0}, '189': {0}, 'argu': {0, 4}, 'deliv': {0, 4}, 'valuabl': {0}, 'preserv': {0, 4, 6}, 'still': {0, 8, 4, 5}, 'de': {0}, 'differenti': {0, 8, 9}, '190': {0}, 'cynthia': {0}, 'dwork': {0}, 'begun': {0}, 'view': {0, 8, 4, 5}, 'fair': {0}, 'brian': {0}, 'christian': {0}, 'wrote': {0, 4}, 'pivot': {0}, '191': {0}, 'unlicens': {0}, 'code': {0, 9, 4, 6}, 'rational': {0}, 'disagre': {0, 4}, 'circumst': {0, 4}, 'hold': {0, 8, 4}, 'court': {0}, 'charact': {0, 4}, 'market': {0, 8}, '192': {0}, '193': {0}, 'websit': {0}, 'owner': {0, 4}, 'wish': {0}, 'scrape': {0}, 'indic': {0, 5}, 'txt': {0}, 'file': {0}, '194': {0}, 'john': {0, 4, 5}, 'grisham': {0}, 'jonathan': {0}, 'franzen': {0}, 'su': {0}, '195': {0}, '196': {0}, 'approach': {0, 4, 5, 8, 9}, 'envis': {0}, 'separ': {0, 4, 5}, 'sui': {0}, 'generi': {0}, 'protect': {0, 4}, 'creation': {0}, 'attribut': {0, 5}, 'compens': {0}, '197': {0}, 'tech': {0}, 'alphabet': {0}, 'inc': {0}, 'meta': {0, 9, 4, 6}, 'platform': {0, 9, 4}, '198': {0}, '199': {0}, '200': {0}, 'alreadi': {0, 8, 4, 5}, 'major': {0, 7}, 'cloud': {0, 8}, 'infrastructur': {0}, 'entrench': {0, 4}, 'marketplac': {0}, '201': {0}, '202': {0}, 'januari': {0, 1}, 'intern': {0, 5}, 'agenc': {0, 4}, 'iea': {0}, 'releas': {0, 4}, 'electr': {0}, '2026': {0}, '203': {0}, 'project': {0, 1, 4, 8, 9}, 'consumpt': {0}, 'cryptocurr': {0}, 'demand': {0, 4}, 'might': {0, 4, 5, 6}, 'whole': {0, 4}, 'japanes': {0}, 'nation': {0}, '204': {0}, 'prodigi': {0}, 'fossil': {0}, 'fuel': {0}, 'delay': {0}, 'obsolet': {0, 4}, 'carbon': {0}, 'emit': {0}, 'coal': {0}, 'facil': {0, 4}, 'feverish': {0}, 'rise': {0, 4}, 'construct': {0, 8, 5}, 'firm': {0, 4, 5}, 'voraci': {0}, 'consum': {0, 8}, 'immens': {0}, 'fulfil': {0, 4}, 'matter': {0, 4}, 'sourc': {0, 8, 4}, 'hast': {0}, 'nuclear': {0, 4}, 'geotherm': {0}, 'fusion': {0}, 'eventu': {0, 5}, 'kinder': {0}, 'grid': {0, 8}, 'overal': {0}, 'emiss': {0}, 'accord': {0, 4, 5}, '205': {0}, 'goldman': {0}, 'sach': {0}, 'paper': {0, 4}, 'surg': {0}, 'seen': {0, 1, 5, 7, 8, 9}, '2030': {0}, 'oppos': {0}, '2022': {0, 4}, 'presag': {0}, '206': {0}, 'max': {0}, 'counter': {0}, '207': {0}, 'wall': {0}, 'street': {0}, 'journal': {0, 8}, 'negoti': {0, 9}, 'purchas': {0}, 'pennsylvania': {0}, '650': {0}, '208': {0}, 'nvidia': {0, 4}, 'ceo': {0, 4}, 'hsun': {0}, 'huang': {0, 4}, 'said': {0, 4}, 'option': {0, 4, 5}, '209': {0}, 'septemb': {0}, 'announc': {0}, 'agreement': {0}, 'constel': {0}, 'three': {0, 8, 4}, 'mile': {0}, 'island': {0}, 'plant': {0}, 'reopen': {0}, 'suffer': {0, 7}, 'meltdown': {0}, 'reactor': {0}, '1979': {0}, 'strict': {0}, 'extens': {0, 8, 4, 5}, 'scrutini': {0}, 'commiss': {0}, 'approv': {0}, 'ever': {0, 4}, '835': {0}, 'megawatt': {0}, '800': {0}, '000': {0, 9, 4}, 'home': {0}, 'upgrad': {0}, 'estim': {0, 8, 4, 9}, 'depend': {0, 4, 5, 7, 8}, 'tax': {0}, 'break': {0}, 'contain': {0, 8, 5, 7}, 'inflat': {0, 4}, 'reduct': {0}, 'act': {0, 4, 5, 7, 8}, '210': {0}, 'govern': {0, 4}, 'michigan': {0}, 'almost': {0, 4}, 'palisad': {0}, 'lake': {0}, 'octob': {0}, '2025': {0, 4}, 'renam': {0}, 'crane': {0}, 'clean': {0}, 'chri': {0}, 'propon': {0, 6}, 'former': {0, 4}, 'exelon': {0}, 'spinoff': {0}, '211': {0}, 'last': {0, 8, 4, 5}, 'taiwan': {0}, 'suspend': {0, 8}, 'north': {0}, 'taoyuan': {0}, 'capac': {0, 4, 6}, 'mw': {0}, 'shortag': {0}, '212': {0}, 'singapor': {0}, 'impos': {0, 6}, 'ban': {0}, 'lift': {0}, 'japan': {0, 4}, 'shut': {0}, 'fukushima': {0, 8}, 'accid': {0}, 'bloomberg': {0}, 'articl': {0, 4}, 'ubitu': {0}, 'stake': {0}, 'land': {0, 8}, 'near': {0, 4}, '213': {0}, 'wesley': {0}, 'kuo': {0}, 'cheap': {0, 4}, 'novemb': {0}, 'feder': {0}, 'ferc': {0}, 'reject': {0}, 'submit': {0}, 'talen': {0}, 'station': {0}, 'susquehanna': {0}, '214': {0}, 'chairman': {0}, 'willi': {0}, 'l': {0, 7}, 'phillip': {0}, 'burden': {0}, 'shift': {0}, 'household': {0}, 'busi': {0}, 'keep': {0, 9, 5}, 'watch': {0}, 'misinform': {0}, 'conspiraci': {0}, 'extrem': {0}, 'partisan': {0}, 'led': {0, 8, 4}, 'bubbl': {0}, '215': {0}, 'convinc': {0, 4}, 'ultim': {0}, 'undermin': {0}, 'trust': {0}, '216': {0}, 'correctli': {0, 5}, 'took': {0}, 'mitig': {0, 4}, 'citat': {0, 8}, 'indistinguish': {0}, 'photograph': {0, 1}, 'film': {0}, 'actor': {0, 5}, 'massiv': {0}, 'propaganda': {0}, '217': {0}, 'pioneer': {0, 8, 4}, 'geoffrey': {0, 4}, 'hinton': {0, 4}, 'authoritarian': {0}, 'leader': {0, 4}, 'manipul': {0, 4, 5, 6}, 'elector': {0}, '218': {0}, 'bias': {0}, '220': {0}, 'awar': {0, 8}, '221': {0}, '222': {0}, 'serious': {0}, 'recruit': {0}, 'hous': {0}, 'polic': {0}, 'discrimin': {0, 5}, '223': {0}, 'prevent': {0, 8, 4}, 'june': {0, 4}, 'mistakenli': {0}, 'jacki': {0}, 'alcin': {0}, 'friend': {0}, 'gorilla': {0, 4}, 'black': {0}, '224': {0}, 'size': {0, 4, 7}, 'dispar': {0}, '225': {0}, 'fix': {0}, 'eight': {0}, 'later': {0}, 'neither': {0, 4}, '226': {0}, 'compa': {0}, 'likelihood': {0}, 'defend': {0}, 'recidivist': {0}, 'julia': {0}, 'angwin': {0}, 'propublica': {0}, 'racial': {0}, 'despit': {0}, 'race': {0, 4}, 'error': {0, 4, 5, 7}, 'rate': {0, 8, 4}, 'calibr': {0, 8}, 'overestim': {0}, 'offend': {0}, 'underestim': {0, 4}, '227': {0}, 'imposs': {0}, 'accommod': {0}, 'offens': {0}, '229': {0}, 'explicitli': {0, 8, 4, 5}, 'mention': {0, 8, 4}, 'problemat': {0}, 'correl': {0}, 'address': {0, 8, 4}, 'shop': {0}, '230': {0}, 'moritz': {0}, 'hardt': {0}, 'robust': {0, 5}, 'blind': {0, 4}, '231': {0}, 'critic': {0, 8, 4, 5}, 'highlight': {0}, 'valid': {0, 4, 5, 6, 9}, 'resembl': {0}, 'past': {0, 4, 5}, 'racist': {0}, 'made': {0, 4, 5, 8, 9}, '232': {0}, 'suit': {0}, 'descript': {0, 5, 7, 8, 9}, 'prescript': {0}, 'unfair': {0}, 'undetect': {0}, 'overwhelmingli': {0}, 'male': {0}, 'woman': {0}, 'conflict': {0, 5}, 'definit': {0, 4, 5, 7, 9}, 'assumpt': {0, 9, 7}, 'influenc': {0, 5, 6, 8, 9}, 'belief': {0, 4, 5, 7, 8}, 'broad': {0, 4}, 'focu': {0, 8}, 'group': {0, 4, 5, 8, 9}, 'neg': {0}, 'stereotyp': {0}, 'render': {0, 8}, 'invis': {0}, 'procedur': {0, 9}, 'context': {0, 4, 5, 8, 9}, 'stakehold': {0}, 'operation': {0}, 'consid': {0, 9, 4, 5}, 'ethicist': {0}, 'anti': {0}, '219': {0}, 'confer': {0, 8, 4, 9}, 'account': {0, 4}, 'acm': {0}, 'facct': {0}, 'machineri': {0}, 'seoul': {0}, 'south': {0, 1}, 'korea': {0}, 'publish': {0, 4, 5}, 'mistak': {0}, 'unsaf': {0}, 'unregul': {0}, 'flaw': {0, 4}, 'curtail': {0}, 'dubiou': {0}, 'discu': {0, 5}, '234': {0}, 'explain': {0, 8, 5}, '235': {0}, 'linear': {0, 7}, '236': {0}, 'pass': {0, 4}, 'rigor': {0, 8}, 'nevertheless': {0}, 'programm': {0, 4, 5, 6}, 'intend': {0, 8, 5}, 'skin': {0}, 'actual': {0, 4}, 'strong': {0, 4, 5, 6}, 'tendenc': {0}, 'ruler': {0}, 'cancer': {0, 4}, 'pictur': {0, 8}, 'malign': {0, 8}, '237': {0}, 'asthma': {0}, 'die': {0}, 'pneumonia': {0}, 'rel': {0, 1, 9}, 'unlik': {0, 4, 5, 7}, 'mislead': {0}, '238': {0}, '239': {0}, 'doctor': {0}, 'colleagu': {0}, 'behind': {0, 8}, 'draft': {0}, 'european': {0}, 'union': {0}, 'regul': {0}, 'explicit': {0, 5}, 'n': {0}, 'note': {0}, 'sight': {0}, '240': {0}, 'darpa': {0}, 'establish': {0, 9}, 'xai': {0}, '2014': {0, 9, 4}, '241': {0}, 'shap': {0}, 'visualis': {0}, 'contribut': {0, 4}, '242': {0}, 'lime': {0}, 'simpler': {0, 8}, '243': {0}, 'multitask': {0}, '244': {0}, 'deconvolut': {0}, 'deepdream': {0}, '245': {0}, 'anthrop': {0, 4, 6}, '246': {0}, 'terrorist': {0}, 'crimin': {0}, 'rogu': {0}, 'lethal': {0}, 'weapon': {0, 4}, 'locat': {0, 4}, 'inexpens': {0}, 'mass': {0, 4}, 'destruct': {0, 4}, '248': {0}, 'convent': {0}, 'warfar': {0}, 'reliabl': {0, 8, 5}, 'innoc': {0}, '30': {0, 8, 4, 5}, 'china': {0, 4}, '249': {0}, 'fifti': {0}, 'battlefield': {0, 8}, '250': {0}, 'easier': {0}, 'citizen': {0}, 'voic': {0, 4}, 'hide': {0}, 'aid': {0, 8, 4, 5}, 'liber': {0, 5}, 'decentr': {0}, 'spywar': {0}, '251': {0}, 'earlier': {0}, '252': {0}, '253': {0}, 'foreseen': {0}, 'toxic': {0}, 'molecul': {0}, '254': {0}, 'economist': {0}, 'frequent': {0, 2}, 'redund': {0}, 'specul': {0, 4}, 'unemploy': {0}, 'full': {0, 8, 4, 7}, '255': {0}, 'total': {0}, 'acknowledg': {0}, 'unchart': {0}, 'territori': {0}, '256': {0}, 'disagr': {0}, 'whether': {0, 8, 4}, 'substanti': {0, 4}, 'agre': {0, 5}, 'net': {0, 8}, 'redistribut': {0, 4}, '257': {0}, 'vari': {0, 4, 5}, 'michael': {0, 7}, 'osborn': {0}, 'carl': {0}, 'benedikt': {0}, 'frey': {0}, 'oecd': {0}, 'p': {0}, '259': {0}, 'methodolog': {0}, 'criticis': {0}, 'lack': {0, 4, 5}, 'evidenti': {0}, 'foundat': {0, 1, 6, 8}, 'april': {0}, 'chines': {0, 4}, 'illustr': {0, 8}, 'elimin': {0}, '260': {0}, '261': {0}, 'middl': {0}, 'worri': {0}, 'collar': {0}, 'steam': {0}, 'revolut': {0, 4}, 'worth': {0}, '262': {0}, 'paraleg': {0}, 'food': {0, 5}, 'cook': {0}, 'profess': {0}, 'healthcar': {0}, 'clergi': {0}, '263': {0}, 'day': {0, 4}, 'argument': {0, 4}, 'put': {0, 4}, 'joseph': {0}, 'weizenbaum': {0}, 'done': {0, 7}, 'quantit': {0, 8}, 'qualit': {0}, 'judgement': {0}, '264': {0}, 'irrevers': {0, 4}, 'lose': {0, 8}, 'physicist': {0}, 'stephen': {0, 4}, 'hawk': {0, 1, 4}, 'spell': {0}, '265': {0}, 'scenario': {0}, 'suddenli': {0}, 'sentienc': {0, 4}, 'conscious': {0, 4, 5}, 'malevol': {0}, 'q': {0}, 'sci': {0}, 'fi': {0}, 'existenti': {0, 4}, 'philosoph': {0, 4, 5}, 'nick': {0}, 'bostrom': {0}, 'paperclip': {0}, 'factori': {0, 8}, '267': {0}, 'stuart': {0, 4}, 'russel': {0, 4, 5}, 'unplug': {0}, 'fetch': {0}, 'coffe': {0}, 'dead': {0}, '268': {0}, 'safe': {0}, 'superintellig': {0, 4, 6}, 'genuin': {0}, 'align': {0, 4, 5, 6}, 'moral': {0, 4}, 'fundament': {0, 4}, 'side': {0, 8, 4}, '269': {0}, 'second': {0, 8, 4}, 'yuval': {0}, 'noah': {0}, 'harari': {0}, 'physic': {0, 8, 4}, 'pose': {0, 8, 4}, 'civil': {0}, 'ideolog': {0, 4}, 'money': {0, 4}, 'economi': {0}, 'built': {0, 4, 6}, 'stori': {0}, 'preval': {0, 8}, '270': {0}, 'amongst': {0}, 'insid': {0, 8, 5}, 'mix': {0}, 'sizabl': {0}, 'fraction': {0}, 'unconcern': {0}, '271': {0}, 'bill': {0, 4}, 'gate': {0, 4}, 'elon': {0, 4}, 'musk': {0, 4}, '272': {0}, 'yoshua': {0, 4}, 'bengio': {0, 4}, 'sam': {0, 4}, 'altman': {0, 4}, 'resign': {0}, 'freeli': {0, 4}, 'impact': {0, 4, 5}, '273': {0}, 'takeov': {0}, '274': {0}, 'stress': {0}, 'worst': {0}, 'guidelin': {0, 4}, 'cooper': {0}, '275': {0}, 'endors': {0, 4}, 'extinct': {0, 4}, 'global': {0, 4}, 'prioriti': {0, 4}, 'alongsid': {0, 4}, 'societ': {0, 4}, 'pandem': {0, 4}, 'war': {0, 4}, '276': {0}, 'optimist': {0, 4}, 'jürgen': {0}, 'schmidhub': {0}, 'sign': {0}, 'emphasis': {0}, '95': {0, 4}, 'longer': {0, 4, 7}, 'healthier': {0}, '277': {0}, '278': {0}, '279': {0}, 'andrew': {0}, 'ng': {0}, 'fall': {0}, 'doomsday': {0}, 'hype': {0}, 'vest': {0}, '280': {0}, 'yann': {0, 4, 5}, 'lecun': {0, 4, 5}, 'scoff': {0}, 'peer': {0}, 'dystopian': {0}, 'supercharg': {0}, '281': {0}, 'distant': {0, 4}, 'warrant': {0}, 'perspect': {0, 8, 4}, '282': {0}, '283': {0}, 'friendli': {0, 4}, 'eliez': {0, 6}, 'yudkowski': {0, 6}, 'coin': {0, 4, 6}, '284': {0}, 'principl': {0, 5}, 'resolv': {0}, 'dilemma': {0}, '285': {0}, 'aaai': {0, 9}, 'symposium': {0}, '2005': {0, 9, 4, 5}, '286': {0}, 'wendel': {0}, 'wallach': {0}, '287': {0}, 'provabl': {0}, 'benefici': {0}, '288': {0}, 'organ': {0, 1, 4, 5, 8}, 'hug': {0}, '289': {0}, '290': {0}, 'eleutherai': {0}, '291': {0}, '292': {0}, '293': {0}, 'publicli': {0, 4}, '294': {0}, 'misus': {0}, 'secur': {0, 5, 6}, 'away': {0, 4}, 'ineffect': {0}, 'warn': {0, 8}, 'danger': {0}, 'drastic': {0, 4}, 'bioterror': {0}, 'delet': {0}, 'everywher': {0}, 'audit': {0}, '295': {0}, 'permiss': {0}, 'implement': {0, 8, 4, 5}, 'framework': {0, 4, 5, 6, 8, 9}, 'sum': {0, 4}, 'alan': {0, 4}, '296': {0}, '297': {0}, 'decid': {0, 5}, 'asilomar': {0}, 'montreal': {0}, 'declar': {0}, 'ieee': {0}, '298': {0}, 'regard': {0, 4}, '299': {0}, 'promot': {0}, 'wellb': {0}, 'consider': {0, 4, 5}, 'implic': {0, 4}, 'stage': {0, 8, 4, 9}, 'collabor': {0}, 'role': {0, 8, 4}, 'scientist': {0, 4, 5}, 'deliveri': {0}, '300': {0}, 'uk': {0}, 'toolset': {0}, 'inspect': {0, 8}, 'mit': {0, 4}, 'licenc': {0}, 'github': {0}, 'packag': {0, 9}, 'core': {0, 8}, '301': {0}, 'public': {0, 4}, 'broader': {0}, '302': {0}, 'landscap': {0}, 'issu': {0, 8, 4}, 'jurisdict': {0}, '303': {0}, 'stanford': {0, 9, 4}, 'annual': {0, 9}, 'jump': {0}, 'alon': {0, 8, 5}, '304': {0}, '305': {0}, 'adopt': {0, 4}, '306': {0}, 'eu': {0, 4}, 'member': {0}, 'canada': {0}, 'india': {0}, 'mauritiu': {0}, 'russian': {0}, 'saudi': {0}, 'arabia': {0}, 'arab': {0}, 'emir': {0}, 'vietnam': {0}, 'elabor': {0, 7}, 'bangladesh': {0}, 'malaysia': {0}, 'tunisia': {0}, 'partnership': {0, 4}, 'launch': {0}, 'democrat': {0, 4}, 'confid': {0, 9, 4}, 'henri': {0}, 'kissing': {0}, 'eric': {0}, 'schmidt': {0}, 'daniel': {0}, 'huttenloch': {0}, '307': {0}, 'openai': {0, 4, 5, 6}, 'less': {0, 8, 4, 6}, '308': {0}, 'advisori': {0}, 'offici': {0}, '309': {0}, 'council': {0}, 'europ': {0}, 'bind': {0}, 'treati': {0}, 'democraci': {0}, 'kingdom': {0}, 'signatori': {0}, '310': {0}, 'ipso': {0}, 'attitud': {0}, 'toward': {0, 8, 4}, 'greatli': {0, 8, 4}, 'american': {0}, 'drawback': {0}, 'reuter': {0}, 'poll': {0, 4}, '311': {0}, 'fox': {0}, 'news': {0}, 'thought': {0, 8, 4}, 'somewhat': {0}, 'versu': {0}, 'respond': {0, 4, 5}, '312': {0}, '313': {0}, 'summit': {0}, 'held': {0, 4}, 'bletchley': {0}, 'park': {0}, 'mandatori': {0}, 'voluntari': {0}, '314': {0}, 'start': {0, 9, 7}, '315': {0}, '316': {0}, 'commit': {0, 4}, '317': {0}, '318': {0}, 'mathematician': {0, 4}, 'antiqu': {0}, 'directli': {0, 5}, 'shuffl': {0}, 'conceiv': {0}, '319': {0}, '320': {0}, 'along': {0, 4}, 'concurr': {0, 7}, 'cybernet': {0}, 'neurobiolog': {0, 8}, 'electron': {0}, 'r': {0, 1}, '322': {0}, 'mccullouch': {0}, 'pitt': {0}, '1943': {0}, '115': {0, 4}, 'influenti': {0}, 'plausibl': {0, 4}, '323': {0}, 'workshop': {0}, 'dartmouth': {0}, 'colleg': {0}, 'attende': {0}, '1960': {0, 8}, 'student': {0}, 'press': {0}, 'astonish': {0}, 'checker': {0, 9}, 'algebra': {0}, 'v': {0, 8, 5}, 'laboratori': {0, 4}, 'british': {0}, 'univers': {0, 8, 4, 9}, 'latter': {0, 4}, '1970': {0, 8, 4, 7}, 'succeed': {0, 5}, '327': {0}, '1965': {0, 4}, 'herbert': {0, 4}, 'simon': {0, 4}, 'twenti': {0, 4}, '328': {0}, '1967': {0, 4}, 'marvin': {0, 4}, 'minski': {0, 4}, '329': {0}, 'w': {0}, '1974': {0}, 'sir': {0}, 'jame': {0}, 'lighthil': {0}, '331': {0}, 'pressur': {0, 4}, 'congress': {0}, '332': {0}, 'papert': {0}, 'book': {0, 9, 4, 5}, 'understood': {0, 4, 7}, 'discredit': {0}, 'altogeth': {0}, '333': {0}, 'reviv': {0, 4}, '334': {0}, 'skill': {0, 9, 4}, '1985': {0}, 'fifth': {0, 4}, 'restor': {0, 8}, 'collaps': {0, 4}, 'lisp': {0, 9}, '1987': {0}, 'fell': {0}, 'disreput': {0}, 'point': {0, 4, 5, 8, 9}, 'gone': {0, 4}, 'mental': {0, 4}, 'doubt': {0}, 'cognit': {0, 4, 5}, '335': {0}, '336': {0}, 'rodney': {0}, 'brook': {0}, 'focuss': {0}, 'judea': {0}, 'pearl': {0}, 'lofti': {0}, 'zadeh': {0}, '341': {0}, 'connection': {0}, '342': {0}, 'handwritten': {0}, '343': {0}, 'gradual': {0}, 'reput': {0, 4}, '21st': {0, 4}, 'centuri': {0, 8, 4, 5}, 'exploit': {0, 9}, 'narrow': {0, 4, 5}, 'verifi': {0, 4, 7}, '344': {0}, '2000': {0, 4}, '345': {0}, 'pursu': {0, 4, 5}, 'origin': {0, 8, 4, 6}, 'fulli': {0, 4, 5, 7, 8}, '2002': {0, 4}, 'agi': {0, 4, 6}, 'abandon': {0, 4}, '347': {0}, '348': {0}, '349': {0}, 'z': {0, 9}, 'catapult': {0}, 'career': {0}, 'teen': {0}, 'taught': {0}, '350': {0}, '351': {0}, 'breakout': {0}, 'bring': {0}, '352': {0}, 'aggress': {0, 6}, 'phd': {0}, 'graduat': {0}, '353': {0}, '354': {0}, 'pitchbook': {0}, 'newli': {0}, 'startup': {0}, 'claim': {0, 4}, '355': {0}, 'debat': {0, 4}, 'sought': {0}, '356': {0}, 'consciou': {0, 4}, '357': {0}, 'topic': {0, 8, 4}, 'epistemolog': {0}, '358': {0}, 'intensifi': {0}, 'propos': {0, 9, 4, 5}, 'think': {0, 4}, '359': {0}, 'liter': {0}, 'mind': {0, 4, 5}, 'polit': {0}, 'everyon': {0, 4}, '360': {0}, 'norvig': {0, 4, 5}, 'extern': {0, 4, 5, 6, 8}, 'aeronaut': {0}, 'fli': {0}, 'pigeon': {0}, 'fool': {0, 5}, '362': {0}, 'mccarthi': {0, 4}, '363': {0}, '364': {0}, 'similarli': {0, 4, 7}, 'hard': {0, 4}, '365': {0}, 'textbook': {0, 4, 5}, '366': {0}, 'practition': {0, 9}, 'stipul': {0}, 'synthes': {0, 7}, 'manifest': {0}, 'practic': {0, 8, 4, 5}, 'categoris': {0}, '367': {0}, 'buzzword': {0}, 'materi': {0, 8}, '368': {0}, 'unifi': {0}, 'paradigm': {0, 4, 5}, 'aa': {0}, 'unpreced': {0}, 'eclips': {0}, 'mostli': {0}, 'soft': {0}, 'revisit': {0}, 'gofai': {0}, '370': {0}, 'iq': {0, 4}, 'newel': {0, 4}, 'hypothesi': {0, 8, 4, 5}, '371': {0}, 'fail': {0, 4}, 'easili': {0, 9}, 'moravec': {0, 4}, 'paradox': {0}, 'easi': {0}, 'instinct': {0}, '372': {0}, 'hubert': {0, 4}, 'dreyfu': {0, 4}, 'expertis': {0}, 'unconsci': {0}, '373': {0}, 'ridicul': {0, 4}, 'ignor': {0, 5}, 'came': {0, 8, 4}, 'ab': {0}, 'inscrut': {0}, 'attain': {0}, '375': {0}, '376': {0}, 'neuro': {0}, 'bridg': {0}, 'neat': {0}, 'eleg': {0}, 'scruffi': {0}, 'necessarili': {0, 5, 7}, 'unrel': {0}, 'reli': {0, 8, 4, 9}, '377': {0}, 'irrelev': {0, 7}, 'element': {0, 8, 5}, 'genet': {0}, 'toler': {0}, 'imprecis': {0}, 'uncertainti': {0, 7}, 'indirectli': {0}, '378': {0}, '379': {0}, 'focus': {0, 4}, 'exclus': {0}, 'mainstream': {0, 4}, 'add': {0}, 'equip': {0, 6}, '380': {0}, 'david': {0}, 'chalmer': {0}, '381': {0}, 'truli': {0, 4}, 'dennett': {0}, 'illusion': {0}, 'say': {0, 8, 4}, 'illus': {0}, 'imagin': {0, 4}, 'color': {0}, 'red': {0}, 'clear': {0, 4}, '382': {0}, 'computation': {0}, 'ident': {0, 4}, 'jerri': {0}, 'fodor': {0}, 'hilari': {0}, 'putnam': {0}, '383': {0}, 'searl': {0, 4, 5}, 'character': {0, 8, 4, 5}, 'appropri': {0, 8, 7}, 'therebi': {0, 4, 5}, 'ac': {0}, 'room': {0, 4}, 'perfectli': {0, 7}, '387': {0}, 'sentient': {0, 4}, '388': {0}, 'entitl': {0}, 'welfar': {0, 4}, 'anim': {0, 8, 4, 5}, '389': {0}, '390': {0}, 'sapienc': {0}, 'discern': {0}, '391': {0}, 'grant': {0, 4}, 'personhood': {0}, 'statu': {0}, '392': {0}, '2018': {0, 4, 5}, 'downplay': {0}, 'legisl': {0}, 'futurist': {0, 4}, 'autonomi': {0, 8, 4}, '393': {0}, '394': {0}, 'deni': {0, 4}, 'spot': {0, 4}, 'slaveri': {0, 4}, 'farm': {0}, 'carelessli': {0}, 'hypothet': {0, 4, 5, 6}, 'possess': {0, 4}, 'surpass': {0, 8, 4, 6}, 'brightest': {0}, 'gift': {0}, 'reprogram': {0}, 'vernor': {0}, 'ving': {0}, 'singular': {0, 4}, '395': {0}, 'indefinit': {0, 4}, 'shape': {0, 8, 5}, 'curv': {0}, '396': {0}, 'han': {0, 4}, 'cyberneticist': {0}, 'kevin': {0}, 'warwick': {0}, 'inventor': {0}, 'ray': {0, 8, 4}, 'kurzweil': {0, 4}, 'merg': {0}, 'cyborg': {0}, 'either': {0, 8, 9, 7}, 'idea': {0, 4, 5, 7, 8}, 'transhuman': {0}, 'aldou': {0}, 'huxley': {0}, 'robert': {0}, 'etting': {0}, '397': {0}, 'edward': {0}, 'fredkin': {0}, 'evolut': {0, 6}, 'samuel': {0}, 'butler': {0}, 'darwin': {0}, '1863': {0}, 'expand': {0, 5}, 'georg': {0}, 'dyson': {0}, '1998': {0, 9, 7}, '398': {0}, 'storytel': {0}, '399': {0}, 'persist': {0}, 'theme': {0}, '400': {0}, 'trope': {0}, 'mari': {0}, 'shelley': {0}, 'frankenstein': {0}, 'master': {0}, 'arthur': {0, 4}, 'clark': {0, 4}, 'stanley': {0, 4}, 'kubrick': {0, 4}, '2001': {0, 4}, 'odyssey': {0}, '1968': {0}, 'hal': {0, 4}, '9000': {0, 4}, 'murder': {0}, 'charg': {0, 4}, 'spaceship': {0}, 'termin': {0}, '1984': {0, 4}, 'matrix': {0}, '1999': {0}, 'loyal': {0}, 'gort': {0}, 'earth': {0, 4}, 'stood': {0}, '1951': {0}, 'bishop': {0}, 'alien': {0, 4}, '1986': {0}, 'cultur': {0}, '401': {0}, 'isaac': {0}, 'asimov': {0}, 'multivac': {0}, 'super': {0, 4, 6}, 'brought': {0, 8}, 'lay': {0}, '402': {0}, 'familiar': {0}, 'useless': {0}, 'ambigu': {0}, '403': {0}, 'forc': {0, 7}, 'confront': {0}, 'karel': {0}, 'čapek': {0}, 'ex': {0}, 'machina': {0}, 'novel': {0, 4}, 'android': {0}, 'dream': {0}, 'sheep': {0}, 'philip': {0}, 'dick': {0}, 'alter': {0}, '404': {0}, 'syllabu': {0}, '2008': {0}, 'roadsid': {1}, 'ruporni': {1}, 'magnirostri': {1}, 'prey': {1}, 'famili': {1}, 'accipitrida': {1}, 'mexico': {1}, 'america': {1}, 'east': {1}, 'and': {1}, 'except': {1, 5}, 'dens': {8, 1}, 'rainforest': {1}, 'ecosystem': {1}, 'urban': {1}, 'speci': {8, 1, 4}, 'citi': {1}, 'subspeci': {1}, 'griseocauda': {1}, 'speckl': {1}, 'racer': {1}, 'orang': {1}, 'walk': {1}, 'district': {1}, 'beliz': {1}, 'credit': {1}, 'charl': {1}, 'sharp': {1, 5}, 'wikipedia': {1}, 'written': {1, 9}, 'volunt': {1}, 'editor': {1}, 'host': {1, 9}, 'wikimedia': {1}, 'profit': {1}, 'largest': {8, 1}, 'list': {1}, 'refer': {2, 3, 4, 5, 8}, 'across': {4}, 'asi': {4}, 'exce': {4}, 'primari': {8, 4, 6}, 'timelin': {4}, 'decad': {8, 4}, 'maintain': {4, 5, 6}, 'sooner': {4}, 'exact': {4}, 'remot': {4}, 'reserv': {4}, 'weak': {4, 6}, 'broadli': {4}, 'virtuoso': {4}, 'instanc': {9, 4, 7}, 'interdisciplinari': {8, 4, 5}, 'desir': {8, 4, 5, 7}, 'hazard': {4}, '31': {4, 5}, 'hear': {4}, 'etc': {8, 9, 4, 5}, 'strictli': {4}, 'qualifi': {4}, 'thesi': {4}, 'silicon': {8, 4}, 'sen': {4}, 'proscrib': {4}, 'embodi': {4}, 'locomot': {4}, 'eye': {8, 4}, 'ear': {4}, 'meant': {8, 4}, 'confirm': {4}, 'pretend': {4}, 'pretenc': {4}, 'portion': {4}, 'juri': {4}, 'taken': {8, 4, 5, 7}, 'beyond': {4}, 'conjectur': {4}, 'unexpect': {4}, 'faith': {4}, 'reproduc': {4, 5}, 'intent': {4, 5}, 'simultan': {4}, 'comprehens': {4, 6}, 'consult': {4}, 'realist': {4, 7}, 'doug': {4}, 'lenat': {4}, 'cyc': {4}, 'allen': {4}, 'soar': {4}, 'obviou': {8, 4}, 'grossli': {4}, 'skeptic': {4}, 'carri': {4, 5}, 'casual': {4}, 'pump': {4}, 'spectacularli': {4}, 'immin': {4}, 'mistaken': {4}, 'vain': {4}, 'promis': {4}, 'reluct': {4}, 'fear': {4}, 'wild': {4}, 'dreamer': {4}, 'respect': {4}, 'vein': {4}, 'heavili': {8, 4}, 'academia': {4}, 'updat': {4}, 'matur': {4}, '64': {4}, 'turn': {4}, '1988': {4}, 'bottom': {4}, 'rout': {4, 7}, 'meet': {4, 5}, 'top': {8, 4}, 'half': {9, 4}, 'readi': {4}, 'frustratingli': {4}, 'elus': {4}, 'metaphor': {4}, 'golden': {4}, 'spike': {4}, 'driven': {4, 5}, 'effort': {9, 4}, 'disput': {4}, 'stevan': {4}, 'harnad': {4}, 'princeton': {4}, 'conclud': {4}, 'ground': {4}, 'somehow': {4}, 'sensori': {4}, 'somewher': {4}, 'hopelessli': {4}, 'modular': {4}, 'realli': {4}, 'viabl': {4}, 'float': {4}, 'vice': {4}, 'versa': {4}, 'uproot': {4}, 'intrins': {4}, 'mere': {4}, 'equival': {4}, 'gubrud': {4}, 'marcu': {4}, 'hutter': {4}, 'aixi': {4, 5}, 'maximis': {4}, 'satisfi': {4, 5, 7}, 'shane': {4}, 'legg': {4}, 'ben': {4}, 'goertzel': {4}, '2006': {4}, 'pei': {4}, 'wang': {4}, 'preliminari': {4}, 'summer': {8, 4}, 'school': {4}, 'xiamen': {4}, '2009': {4}, 'opencog': {4}, 'cours': {4}, 'plovdiv': {4}, 'bulgaria': {4}, 'todor': {4}, 'arnaudov': {4}, 'lex': {4}, 'fridman': {4}, 'guest': {4}, 'lectur': {4}, 'seri': {4}, 'intens': {4}, 'figur': {4, 5}, 'paul': {4}, 'unforese': {4}, 'unpredict': {4, 5, 6}, 'guardian': {4}, 'roboticist': {4}, 'winfield': {4}, 'gulf': {4}, 'flight': {4}, 'light': {8, 4}, 'spaceflight': {4}, 'clariti': {4}, 'entail': {4}, 'pure': {8, 4}, 'causal': {4}, 'replic': {4, 5}, 'faculti': {4}, 'thinker': {4}, 'roger': {4}, 'penros': {4}, 'date': {4}, 'feasibl': {4}, 'wax': {4}, 'wane': {4}, '2013': {9, 4, 5}, 'median': {8, 4}, 'arriv': {4}, '2040': {4}, '2050': {4}, '2081': {4}, 'instead': {9, 4, 5, 7}, 'armstrong': {4}, 'kaj': {4}, 'sotala': {4}, 'frame': {8, 4, 5}, 'detail': {8, 4}, 'depth': {4}, 'yet': {8, 4}, 'torranc': {4}, 'blais': {4}, 'agüera': {4}, 'arca': {4}, 'peter': {4}, 'frontier': {4}, 'healthi': {4}, 'metric': {4}, 'devot': {8, 4, 5}, 'exception': {4}, 'o1': {4}, 'preview': {4}, 'spend': {4}, 'mira': {4}, 'murati': {4}, 'wherea': {8, 4}, '93': {4}, 'employe': {4}, 'vahid': {4}, 'kazemi': {4}, 'clarifi': {4}, 'compar': {4, 5, 7, 8, 9}, 'hypothes': {4}, 'unconvent': {4}, 'remark': {4}, 'standard': {9, 4, 5}, 'comment': {4}, 'shortli': {4}, 'remov': {8, 4}, 'strateg': {8, 4}, 'stop': {4}, 'hiatu': {4}, 'twentieth': {4}, 'introduct': {4}, 'flexibl': {4, 5}, '2007': {9, 4}, 'seem': {4, 5}, '2045': {4}, 'onset': {4}, 'alik': {4}, 'categor': {4}, 'alex': {4}, 'krizhevski': {4}, 'ilya': {4}, 'sutskev': {4}, 'alexnet': {4}, 'significantli': {4}, 'entri': {4}, 'breaker': {4}, 'feng': {4}, 'liu': {4}, 'yong': {4}, 'shi': {4}, 'ying': {4}, 'correspond': {8, 4, 7}, 'six': {4}, 'old': {4}, 'grade': {4}, 'divers': {4}, 'gari': {4}, 'grossman': {4}, 'venturebeat': {4}, 'jason': {4}, 'rohrer': {4}, 'decemb': {4}, 'compli': {4}, 'disconnect': {4}, 'api': {4}, 'gato': {4}, '600': {4}, 'contend': {4}, 'span': {4}, 'emphas': {4, 7}, 'stuff': {4}, 'smarter': {4, 6}, 'obvious': {4}, 'pretti': {4}, 'jensen': {4}, 'leopold': {4}, 'aschenbrenn': {4}, '2027': {4}, 'strikingli': {4}, '116': {4}, '117': {4}, 'emul': {4}, 'scan': {8, 4}, 'copi': {4}, 'behav': {4}, '118': {4}, 'neuroinformat': {4}, 'neuroimag': {4}, 'rapidli': {4, 6}, 'timescal': {4}, 'quantiti': {4}, 'synapsi': {4}, '1011': {4}, 'synapt': {4}, '1015': {4}, 'quadrillion': {4}, 'declin': {4}, 'age': {4}, 'stabil': {4}, 'adulthood': {4}, '1014': {4}, '500': {4}, 'trillion': {4}, '120': {4}, 'per': {8, 4}, 'sup': {4}, '121': {4}, '1016': {4}, 'cp': {4}, 'comparison': {8, 4, 5}, 'supercomput': {4}, 'petaflop': {4}, '1018': {4}, 'atla': {4}, 'duke': {4}, 'mous': {4}, 'captur': {8, 4}, 'cellular': {4}, 'outlin': {4}, 'overhead': {4}, 'chemic': {4}, 'molecular': {4}, 'magnitud': {4}, 'larger': {8, 4}, 'glial': {4}, 'cell': {4}, 'deriv': {8, 9, 4, 5}, 'assert': {4}, 'encompass': {4, 5}, 'metavers': {4}, 'distinct': {4, 5}, 'stronger': {4}, 'inde': {8, 4}, 'tell': {4}, 'dimens': {8, 4, 7}, 'orient': {8, 4}, 'hunger': {4}, 'poverti': {4}, 'health': {4}, 'elderli': {4}, 'diagnost': {4}, 'fun': {4}, 'subsist': {4}, 'wealth': {4}, 'properli': {4}, 'radic': {4}, 'anticip': {4}, 'reap': {4}, 'catastroph': {4}, 'nanotechnolog': {4}, 'climat': {4}, 'vulner': {4, 5}, 'threaten': {4}, 'prematur': {4}, 'perman': {4}, 'spread': {4}, 'whoever': {4}, 'furthermor': {8, 4}, 'indoctrin': {4}, 'repress': {4}, 'worldwid': {4}, 'totalitarian': {4}, 'regim': {4}, 'worthi': {4}, 'civiliz': {4}, 'neglect': {4}, 'tobi': {4}, 'ord': {4}, 'proceed': {4, 7}, 'caution': {4}, 'controversi': {4}, 'indiffer': {4}, 'incalcul': {4}, 'superior': {4}, 'civilis': {4}, 'sent': {9, 4}, 'messag': {4}, 'repli': {4}, 'ok': {4}, 'leav': {4, 5}, 'fate': {4}, 'greater': {8, 4}, 'endang': {4}, 'malic': {4}, 'collater': {4}, 'damag': {8, 4}, 'anthropomorph': {4}, 'smart': {4}, 'stupid': {4}, 'moron': {4}, 'converg': {8, 4}, 'whatev': {4, 5}, 'intermediari': {4}, 'scholar': {4}, 'advoc': {4}, 'recurs': {4, 6}, 'manner': {8, 4, 5}, 'complic': {4, 5, 7}, 'arm': {8, 4}, 'precaut': {4}, 'competitor': {9, 4}, 'detractor': {4}, 'distract': {4}, 'fraud': {4}, 'czar': {4}, 'shuman': {4}, 'ghosemajumd': {4}, 'outsid': {8, 4, 7}, 'though': {4, 5}, 'misunderstand': {4}, 'crypto': {4}, 'religi': {4}, 'irrat': {4}, 'omnipot': {4}, 'god': {4}, 'campaign': {4}, 'workforc': {4}, 'interfac': {8, 4, 5}, 'enjoy': {4}, 'luxuri': {4}, 'leisur': {4}, 'share': {9, 4}, 'miser': {4}, 'poor': {4}, 'lobbi': {4}, 'inequ': {4}, 'basic': {8, 4, 5, 6}, 'incom': {4}, 'ia': {5}, 'thermostat': {5}, 'biom': {5}, 'essenc': {5}, 'borrow': {5}, 'encapsul': {5}, 'fit': {5}, 'socio': {5}, 'schemat': {5}, 'abstract': {8, 5}, 'aia': {5}, 'absenc': {5}, 'intervent': {5, 6}, 'behalf': {5}, 'actuat': {8, 5}, 'padgham': {5}, 'winikoff': {5}, 'proactiv': {5}, 'desideratum': {5}, 'kaplan': {5}, 'haenlein': {5}, 'line': {8, 5}, 'synthet': {8, 5}, 'unintellig': {5}, 'importantli': {5}, 'advantag': {5, 7}, 'isol': {5}, 'accept': {8, 5, 6}, 'trade': {9, 5}, 'off': {5}, 'terminolog': {5}, 'induc': {5, 7}, 'encourag': {5}, 'preferenti': {5}, 'evolv': {5, 6}, 'innat': {5}, 'implicit': {5}, 'subsum': {5}, 'extend': {8, 9, 5}, 'mimicri': {5}, 'succe': {5}, 'mimick': {5}, 'compon': {5, 6}, 'mimic': {8, 5}, 'improvis': {5}, 'composit': {5}, 'antagonist': {5}, 'predictor': {5}, 'alphazero': {5}, 'count': {5}, 'descend': {5}, 'uncomput': {5}, 'constrain': {5}, 'sequenc': {8, 5, 7}, 'coeffici': {5}, 'constant': {5}, 'instant': {5}, '2003': {9, 5}, 'reflex': {5}, 'rest': {5}, 'disregard': {5}, 'trigger': {5, 6}, 'infinit': {5, 7}, 'loop': {9, 5, 7}, 'unavoid': {5}, 'random': {8, 5}, 'escap': {5, 6}, 'store': {8, 5}, 'henc': {8, 5, 7}, 'sort': {8, 5, 6}, 'reflect': {5}, 'happi': {5}, 'great': {5}, 'entir': {8, 5}, 'weiss': {5}, 'alexand': {5}, 'wissner': {5}, 'gross': {5}, 'pertain': {5}, 'freedom': {5}, 'hierarch': {5, 7}, 'togeth': {8, 9, 5}, 'hierarchi': {5}, 'balanc': {5}, 'immedi': {5}, 'reaction': {5}, 'synonym': {5}, '20th': {5}, 'nikola': {5}, 'kasabov': {5}, 'characterist': {9, 5}, 'spectrum': {5}, 'independ': {5, 7}, 'flow': {8, 5, 7}, 'travel': {5}, 'devin': {5}, 'autogpt': {5}, 'langchain': {5}, 'autogen': {5}, 'tediou': {5}, 'liabil': {5}, 'cybercrim': {5}, 'weaken': {5}, 'oversight': {5}, '42': {9, 5}, 'overfit': {5}, 'hallerbach': {5}, 'et': {5}, 'al': {5}, 'twin': {5}, 'microscop': {5}, '43': {9, 5}, 'multi': {8, 5, 7}, 'carcraft': {5}, 'pedestrian': {5}, 'rsi': {6}, 'unforeseen': {6}, 'push': {8, 6}, 'paus': {6}, 'runaway': {6}, 'seed': {6}, 'variat': {8, 9, 6}, 'compil': {6}, 'arbitrari': {6}, 'degrad': {8, 6}, 'pursuit': {6}, 'inadvert': {6}, 'deem': {6}, 'secondari': {6}, 'shutdown': {6}, 'clone': {6}, 'favor': {9, 6}, 'aris': {6}, 'misalign': {6}, 'misinterpret': {6}, 'covertli': {6}, 'retrain': {6}, 'trajectori': {6}, 'bypass': {6}, 'expans': {6}, 'creator': {9, 6}, 'superalign': {6}, 'schedul': {7}, 'denot': {7}, 'branch': {7}, 'realiz': {8, 7}, 'multidimension': {7}, 'offlin': {7}, 'prior': {8, 7}, 'revis': {7}, 'resort': {7}, 'trial': {7}, 'guarante': {7}, 'simplifi': {8, 9, 7}, 'unambigu': {7}, 'alway': {7}, 'nondeterminist': {7}, 'discret': {7}, 'mdp': {7}, 'pomdp': {7}, 'planner': {7}, 'stack': {7}, 'workflow': {7}, 'strip': {7}, 'pddl': {7}, 'variabl': {8, 9, 7}, 'curs': {7}, 'dimension': {8, 9, 7}, 'primit': {8, 7}, 'decompos': {7}, 'tempor': {8, 7}, 'overlap': {8, 7}, 'durat': {7}, 'absolut': {7}, 'integ': {7}, 'automaton': {7}, 'stnu': {7}, 'reactiv': {7}, 'disadvantag': {7}, 'normal': {7}, 'notat': {7}, 'graph': {8, 7}, 'bottleneck': {7}, 'pascal': {7}, 'sourcecod': {7}, 'warplan': {7}, 'runtim': {7}, 'react': {7}, 'miss': {7}, 'finish': {7}, 'chunk': {7}, 'conting': {7}, 'faulti': {7}, 'rain': {7}, 'umbrella': {7}, 'littman': {7}, 'exptim': {7}, 'contigu': {7}, 'fond': {7}, 'ltlf': {7}, 'trace': {8, 7}, '2exptim': {7}, 'ldlf': {7}, 'conform': {7}, 'haslum': {7}, 'jonsson': {7}, 'expspac': {7}, 'signifi': {8}, 'retina': {8}, 'elicit': {8}, 'disentangl': {8}, 'scanner': {8}, 'subdisciplin': {8}, 'reconstruct': {8}, 'motion': {8}, 'servo': {8}, 'stone': {8}, 'endow': {8}, '1966': {8}, 'undergradu': {8}, 'attach': {8, 9}, 'saw': {8}, 'today': {8}, 'polyhedr': {8}, 'interconnect': {8}, 'smaller': {8}, 'optic': {8}, 'cue': {8}, 'shade': {8}, 'textur': {8}, 'contour': {8}, 'snake': {8}, 'regular': {8}, 'advent': {8}, 'bundl': {8}, 'photogrammetri': {8}, 'spars': {8}, 'stereo': {8}, 'segment': {8}, 'eigenfac': {8}, 'morph': {8}, 'interpol': {8}, 'panoram': {8}, 'stitch': {8}, 'resurg': {8}, 'conjunct': {8}, 'accuraci': {8}, 'solid': {8}, 'electromagnet': {8}, 'radiat': {8}, 'visibl': {8}, 'infrar': {8}, 'ultraviolet': {8}, 'quantum': {8}, 'surfac': {8}, 'format': {8}, 'fluid': {8}, 'stimulu': {8}, 'coars': {8}, 'background': {8}, 'neocognitron': {8}, 'kunihiko': {8}, 'cortex': {8}, 'strand': {8}, 'tie': {8}, 'physiolog': {8}, 'exchang': {8}, 'proven': {8}, 'fruit': {8}, 'counterpart': {8}, 'navig': {8}, 'deliber': {8}, 'besid': {8}, 'final': {8}, 'fashion': {8}, 'ecommerc': {8}, 'inventori': {8}, 'patent': {8}, 'furnitur': {8}, 'beauti': {8}, 'augment': {8}, 'realiti': {8}, 'stereophotogrammetri': {8}, 'bottl': {8}, 'comprehend': {8}, 'tumour': {8}, 'arteriosclerosi': {8}, 'dental': {8}, 'patholog': {8}, 'blood': {8}, 'ultrason': {8}, 'nois': {8}, 'defect': {8}, 'wafer': {8}, 'inaccuraci': {8}, 'chip': {8}, 'unus': {8}, 'undesir': {8}, 'foodstuff': {8}, 'bulk': {8}, 'soldier': {8}, 'missil': {8}, 'send': {8}, 'rich': {8}, 'fuse': {8}, 'newer': {8}, 'submers': {8}, 'wheel': {8}, 'truck': {8}, 'aerial': {8}, 'uav': {8}, 'pilot': {8}, 'slam': {8}, 'obstacl': {8}, 'forest': {8}, 'aircraft': {8}, 'manufactur': {8}, 'ampl': {8}, 'recon': {8}, 'nasa': {8}, 'curios': {8}, 'cnsa': {8}, 'yutu': {8}, 'rover': {8}, 'rubber': {8}, 'microundul': {8}, 'mold': {8}, 'finger': {8}, 'strain': {8}, 'gaug': {8}, 'sheet': {8}, 'array': {8}, 'pin': {8}, 'upward': {8}, 'dome': {8}, 'marker': {8}, 'literatur': {8}, '1000': {8}, 'struggl': {8}, 'thin': {8}, 'stem': {8}, 'flower': {8}, 'quill': {8}, 'troubl': {8}, 'distort': {8}, 'phenomenon': {8}, 'grain': {8}, 'breed': {8}, 'dog': {8}, 'veloc': {8}, 'angl': {8}, 'transmiss': {8}, 'interfer': {8}, 'blur': {8}, 'recov': {8}, 'inpaint': {8}, 'stand': {8}, 'constitut': {8}, 'uniqu': {8}, 'iu': {8}, 'region': {8}, 'intermedi': {8}, 'boundari': {8}, 'volum': {8}, 'prototyp': {8}, 'spatial': {8}, 'certainti': {8}, 'strength': {8}, 'satisfact': {8}, 'ccd': {8}, 'processor': {8}, 'cabl': {8}, 'inner': {8}, 'illumin': {8}, 'accessori': {8}, 'connector': {8}, 'passiv': {8}, 'thermograph': {8}, 'hyperspectr': {8}, 'magnet': {8}, 'reson': {8}, 'apertur': {8}, 'broadcast': {8}, 'projector': {8}, 'egocentr': {8}, 'compos': {8}, 'wearabl': {8}, 'complement': {8}, 'ggp': {9}, 'mileston': {9}, 'gvgp': {9}, 'learnt': {9}, 'td': {9}, 'gammon': {9}, 'manual': {9}, '2600': {9}, 'nintendo': {9}, 'entertain': {9}, 'zillion': {9}, 'price': {9}, 'auction': {9}, '1992': {9}, 'barney': {9}, 'pell': {9}, 'metagam': {9}, 'earliest': {9}, 'gdl': {9}, 'jeff': {9}, 'mallett': {9}, 'lefler': {9}, 'piec': {9}, 'mobil': {9}, 'board': {9}, 'beta': {9}, 'prune': {9}, 'transposit': {9}, 'tabl': {9}, 'plug': {9}, 'forth': {9}, 'ur': {9}, 'fischbach': {9}, 'cite': {9}, 'particip': {9}, 'pyvgdl': {9}, 'california': {9}, 'server': {9}, 'judg': {9}, 'entrant': {9}, 'upper': {9}, 'runoff': {9}, 'round': {9}, 'prize': {9}, 'victori': {9}, 'loophol': {9}, 'gameplay': {9}, 'rapp': {9}, 'gvgai': {9}, 'era': {9}, 'arcad': {9}, 'consol': {9}, 'vgdl': {9}, 'confus': {9}, 'pars': {9}, 'easiest': {9}, 'clarif': {9}, 'asp': {9}, 'ea': {9}, 'mont': {9}, 'carlo': {9}, 'mct': {9}, 'uct': {9}, 'bound': {9}, 'compat': {9}, 'db': {9}, 'visit': {9}, 'highest': {9}, 'rank': {9}, 'earn': {9}, 'jesper': {9}, 'juul': {9}}\n",
      "Welcome to the Search Engine with Ranking Options! Enter your query (type 'exit' to quit):\n"
     ]
    },
    {
     "name": "stdin",
     "output_type": "stream",
     "text": [
      "Query:  AI\n"
     ]
    },
    {
     "name": "stdout",
     "output_type": "stream",
     "text": [
      "Choose ranking method: (1) TF-IDF, (2) BM25, (3) VSM\n"
     ]
    },
    {
     "name": "stdin",
     "output_type": "stream",
     "text": [
      "Enter 1, 2, or 3:  3\n"
     ]
    },
    {
     "name": "stdout",
     "output_type": "stream",
     "text": [
      "Processing token: AI\n",
      "Token 'AI' maps to documents: {0, 2, 4, 5, 6, 7, 8, 9}\n",
      "Final result: {0, 2, 4, 5, 6, 7, 8, 9}\n",
      "Results ranked by VSM:\n",
      "- Ai - Wikipedia (Score: 0.1756) - URL: https://en.wikipedia.org/wiki/AI_(disambiguation)\n",
      "- Artificial intelligence - Wikipedia (Score: 0.1245) - URL: https://en.wikipedia.org/wiki/Artificial_intelligence\n",
      "- Artificial general intelligence - Wikipedia (Score: 0.0833) - URL: https://en.wikipedia.org/wiki/Artificial_general_intelligence\n",
      "- Intelligent agent - Wikipedia (Score: 0.0266) - URL: https://en.wikipedia.org/wiki/Intelligent_agent\n",
      "- General game playing - Wikipedia (Score: 0.0247) - URL: https://en.wikipedia.org/wiki/General_game_playing\n",
      "- Recursive self-improvement - Wikipedia (Score: 0.0220) - URL: https://en.wikipedia.org/wiki/Recursive_self-improvement\n",
      "- Automated planning and scheduling - Wikipedia (Score: 0.0049) - URL: https://en.wikipedia.org/wiki/Automated_planning_and_scheduling\n",
      "- Computer vision - Wikipedia (Score: 0.0008) - URL: https://en.wikipedia.org/wiki/Computer_vision\n"
     ]
    },
    {
     "name": "stdin",
     "output_type": "stream",
     "text": [
      "Query:  εχιτ\n"
     ]
    },
    {
     "name": "stdout",
     "output_type": "stream",
     "text": [
      "Choose ranking method: (1) TF-IDF, (2) BM25, (3) VSM\n"
     ]
    },
    {
     "name": "stdin",
     "output_type": "stream",
     "text": [
      "Enter 1, 2, or 3:  exit\n"
     ]
    },
    {
     "name": "stdout",
     "output_type": "stream",
     "text": [
      "Invalid choice. Please enter 1, 2, or 3.\n"
     ]
    },
    {
     "name": "stdin",
     "output_type": "stream",
     "text": [
      "Query:  3\n"
     ]
    },
    {
     "name": "stdout",
     "output_type": "stream",
     "text": [
      "Choose ranking method: (1) TF-IDF, (2) BM25, (3) VSM\n"
     ]
    },
    {
     "name": "stdin",
     "output_type": "stream",
     "text": [
      "Enter 1, 2, or 3:  3\n"
     ]
    },
    {
     "name": "stdout",
     "output_type": "stream",
     "text": [
      "Processing token: 3\n",
      "Token '3' maps to documents: {0, 4, 5, 6, 7, 8, 9}\n",
      "Final result: {0, 4, 5, 6, 7, 8, 9}\n",
      "Results ranked by VSM:\n",
      "- Artificial general intelligence - Wikipedia (Score: 0.0073) - URL: https://en.wikipedia.org/wiki/Artificial_general_intelligence\n",
      "- Recursive self-improvement - Wikipedia (Score: 0.0051) - URL: https://en.wikipedia.org/wiki/Recursive_self-improvement\n",
      "- General game playing - Wikipedia (Score: 0.0039) - URL: https://en.wikipedia.org/wiki/General_game_playing\n",
      "- Computer vision - Wikipedia (Score: 0.0038) - URL: https://en.wikipedia.org/wiki/Computer_vision\n",
      "- Automated planning and scheduling - Wikipedia (Score: 0.0029) - URL: https://en.wikipedia.org/wiki/Automated_planning_and_scheduling\n",
      "- Intelligent agent - Wikipedia (Score: 0.0022) - URL: https://en.wikipedia.org/wiki/Intelligent_agent\n",
      "- Artificial intelligence - Wikipedia (Score: 0.0018) - URL: https://en.wikipedia.org/wiki/Artificial_intelligence\n"
     ]
    },
    {
     "name": "stdin",
     "output_type": "stream",
     "text": [
      "Query:  exit\n"
     ]
    },
    {
     "name": "stdout",
     "output_type": "stream",
     "text": [
      "\n",
      "Choose ranking method for evaluation: (1) TF-IDF, (2) BM25, (3) VSM, (4) Exit\n"
     ]
    },
    {
     "name": "stdin",
     "output_type": "stream",
     "text": [
      "Enter 1, 2, 3, or 4:  4\n"
     ]
    },
    {
     "name": "stdout",
     "output_type": "stream",
     "text": [
      "Exiting evaluation.\n"
     ]
    }
   ],
   "source": [
    "\n",
    "# ΕΚΤΕΛΕΣΗ\n",
    "if __name__ == \"__main__\":\n",
    "    base_url = \"https://en.wikipedia.org\"\n",
    "    start_url = f\"{base_url}/wiki/Artificial_intelligence\"\n",
    "\n",
    "    crawl_wikipedia(start_url, max_articles=10)\n",
    "    build_inverted_index()\n",
    "    search_interface()\n",
    "\n",
    "    #Eρωτήματα δοκιμής\n",
    "    test_queries = {\n",
    "        \"ai\": [0, 2, 4],\n",
    "        \"machine learning\": [1, 3],\n",
    "        \"deep learning\": [5, 6, 7],\n",
    "    }\n",
    "    evaluate_search_engine(test_queries, articles)"
   ]
  }
 ],
 "metadata": {
  "kernelspec": {
   "display_name": "Python 3 (ipykernel)",
   "language": "python",
   "name": "python3"
  },
  "language_info": {
   "codemirror_mode": {
    "name": "ipython",
    "version": 3
   },
   "file_extension": ".py",
   "mimetype": "text/x-python",
   "name": "python",
   "nbconvert_exporter": "python",
   "pygments_lexer": "ipython3",
   "version": "3.13.1"
  }
 },
 "nbformat": 4,
 "nbformat_minor": 5
}
